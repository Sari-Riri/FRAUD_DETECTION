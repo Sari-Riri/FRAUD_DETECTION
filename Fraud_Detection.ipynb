{
  "nbformat": 4,
  "nbformat_minor": 0,
  "metadata": {
    "colab": {
      "name": "UTS_SOAL_1.ipynb",
      "provenance": [],
      "collapsed_sections": []
    },
    "kernelspec": {
      "name": "python3",
      "display_name": "Python 3"
    },
    "language_info": {
      "name": "python"
    }
  },
  "cells": [
    {
      "cell_type": "code",
      "metadata": {
        "colab": {
          "base_uri": "https://localhost:8080/"
        },
        "id": "LsgXIqoBMACc",
        "outputId": "af8ff286-e0ff-4aa2-cddb-76e3f3ca4e3a"
      },
      "source": [
        "from google.colab import drive\n",
        "drive.mount('/content/drive')"
      ],
      "execution_count": null,
      "outputs": [
        {
          "output_type": "stream",
          "text": [
            "Drive already mounted at /content/drive; to attempt to forcibly remount, call drive.mount(\"/content/drive\", force_remount=True).\n"
          ],
          "name": "stdout"
        }
      ]
    },
    {
      "cell_type": "code",
      "metadata": {
        "id": "599p5yyVMWzd"
      },
      "source": [
        ""
      ],
      "execution_count": null,
      "outputs": []
    },
    {
      "cell_type": "markdown",
      "metadata": {
        "id": "dHDOS8ugR4Jl"
      },
      "source": [
        "#SOAL 1"
      ]
    },
    {
      "cell_type": "markdown",
      "metadata": {
        "id": "TLc-HF3mNXae"
      },
      "source": [
        "# 1. Preparation"
      ]
    },
    {
      "cell_type": "markdown",
      "metadata": {
        "id": "YCn8c1PDNeXr"
      },
      "source": [
        "Badan Inteligen Cyber Crime sedang mendesain cara untuk mendeteksi fraud (Fraud\n",
        "Detection) dalam transaksi pembayaran yang marak terjadi seiring dengan pertumbuhan platform finansial. Sebagai seorang analis yang telah mempelajari praktek Data Science dengan sejumlah code dan best practice,  Saudara diminta untuk membantu Badan Inteligen tersebut\n",
        "\n",
        "Column terdiri dari : \n",
        "\n",
        "*Header*\n",
        "\n",
        "step - memetakan satuan waktu di dunia nyata. Dalam kasus ini, 1 langkah adalah waktu 1 jam. Total langkah 744 (simulasi 30 hari).\n",
        "\n",
        "type - CASH-IN, CASH-OUT, DEBIT, PEMBAYARAN dan TRANSFER.\n",
        "\n",
        "amount - jumlah transaksi dalam mata uang lokal.\n",
        "\n",
        "nameOrig - pelanggan yang memulai transaksi\n",
        "\n",
        "oldbalanceOrg - saldo awal sebelum transaksi\n",
        "\n",
        "newbalanceOrig - saldo baru setelah transaksi\n",
        "\n",
        "nameDest - pelanggan yang merupakan penerima transaksi\n",
        "\n",
        "oldbalanceDest - penerima saldo awal sebelum transaksi. Perhatikan bahwa tidak ada informasi untuk pelanggan yang dimulai dengan M (Pedagang).\n",
        "\n",
        "newbalanceDest - penerima saldo baru setelah transaksi. Perhatikan bahwa tidak ada informasi untuk pelanggan yang dimulai dengan M (Pedagang).\n",
        "\n",
        "isFraud - Ini adalah transaksi yang dilakukan oleh agen penipu di dalam simulasi. Dalam kumpulan data khusus ini, perilaku curang agen bertujuan untuk mendapatkan keuntungan dengan mengambil kendali atau akun pelanggan dan mencoba mengosongkan dana dengan mentransfer ke akun lain dan kemudian mencairkan sistem.\n",
        "\n",
        "isFlaggedFraud - Model bisnis bertujuan untuk mengontrol transfer besar-besaran dari satu akun ke akun lain dan menandai upaya ilegal. Upaya ilegal dalam kumpulan data ini adalah upaya untuk mentransfer lebih dari 200.000 dalam satu transaksi."
      ]
    },
    {
      "cell_type": "code",
      "metadata": {
        "id": "m0k3hKa0NYBL"
      },
      "source": [
        "# Importing libraries\n",
        "import numpy as np\n",
        "import pandas as pd\n",
        "import matplotlib.pyplot as plt\n",
        "import seaborn as sns\n",
        "%matplotlib inline"
      ],
      "execution_count": null,
      "outputs": []
    },
    {
      "cell_type": "code",
      "metadata": {
        "colab": {
          "base_uri": "https://localhost:8080/",
          "height": 1000
        },
        "id": "lbZJWOxZN-8S",
        "outputId": "fee59f7d-bb2e-41f0-f182-08ec6cf8d525"
      },
      "source": [
        "file = pd.read_csv('/content/drive/MyDrive/UTS/UTS1/PS_20174392719_1491204439457_log1.csv', delimiter=',')\n",
        "file"
      ],
      "execution_count": null,
      "outputs": [
        {
          "output_type": "execute_result",
          "data": {
            "text/html": [
              "<div>\n",
              "<style scoped>\n",
              "    .dataframe tbody tr th:only-of-type {\n",
              "        vertical-align: middle;\n",
              "    }\n",
              "\n",
              "    .dataframe tbody tr th {\n",
              "        vertical-align: top;\n",
              "    }\n",
              "\n",
              "    .dataframe thead th {\n",
              "        text-align: right;\n",
              "    }\n",
              "</style>\n",
              "<table border=\"1\" class=\"dataframe\">\n",
              "  <thead>\n",
              "    <tr style=\"text-align: right;\">\n",
              "      <th></th>\n",
              "      <th>step</th>\n",
              "      <th>type</th>\n",
              "      <th>amount</th>\n",
              "      <th>nameOrig</th>\n",
              "      <th>oldbalanceOrg</th>\n",
              "      <th>newbalanceOrig</th>\n",
              "      <th>nameDest</th>\n",
              "      <th>oldbalanceDest</th>\n",
              "      <th>newbalanceDest</th>\n",
              "      <th>isFraud</th>\n",
              "      <th>isFlaggedFraud</th>\n",
              "    </tr>\n",
              "  </thead>\n",
              "  <tbody>\n",
              "    <tr>\n",
              "      <th>0</th>\n",
              "      <td>1</td>\n",
              "      <td>PAYMENT</td>\n",
              "      <td>9839.64</td>\n",
              "      <td>C1231006815</td>\n",
              "      <td>170136.00</td>\n",
              "      <td>160296.36</td>\n",
              "      <td>M1979787155</td>\n",
              "      <td>0.00</td>\n",
              "      <td>0.00</td>\n",
              "      <td>0</td>\n",
              "      <td>0</td>\n",
              "    </tr>\n",
              "    <tr>\n",
              "      <th>1</th>\n",
              "      <td>1</td>\n",
              "      <td>PAYMENT</td>\n",
              "      <td>1864.28</td>\n",
              "      <td>C1666544295</td>\n",
              "      <td>21249.00</td>\n",
              "      <td>19384.72</td>\n",
              "      <td>M2044282225</td>\n",
              "      <td>0.00</td>\n",
              "      <td>0.00</td>\n",
              "      <td>0</td>\n",
              "      <td>0</td>\n",
              "    </tr>\n",
              "    <tr>\n",
              "      <th>2</th>\n",
              "      <td>1</td>\n",
              "      <td>TRANSFER</td>\n",
              "      <td>181.00</td>\n",
              "      <td>C1305486145</td>\n",
              "      <td>181.00</td>\n",
              "      <td>0.00</td>\n",
              "      <td>C553264065</td>\n",
              "      <td>0.00</td>\n",
              "      <td>0.00</td>\n",
              "      <td>1</td>\n",
              "      <td>0</td>\n",
              "    </tr>\n",
              "    <tr>\n",
              "      <th>3</th>\n",
              "      <td>1</td>\n",
              "      <td>CASH_OUT</td>\n",
              "      <td>181.00</td>\n",
              "      <td>C840083671</td>\n",
              "      <td>181.00</td>\n",
              "      <td>0.00</td>\n",
              "      <td>C38997010</td>\n",
              "      <td>21182.00</td>\n",
              "      <td>0.00</td>\n",
              "      <td>1</td>\n",
              "      <td>0</td>\n",
              "    </tr>\n",
              "    <tr>\n",
              "      <th>4</th>\n",
              "      <td>1</td>\n",
              "      <td>PAYMENT</td>\n",
              "      <td>11668.14</td>\n",
              "      <td>C2048537720</td>\n",
              "      <td>41554.00</td>\n",
              "      <td>29885.86</td>\n",
              "      <td>M1230701703</td>\n",
              "      <td>0.00</td>\n",
              "      <td>0.00</td>\n",
              "      <td>0</td>\n",
              "      <td>0</td>\n",
              "    </tr>\n",
              "    <tr>\n",
              "      <th>5</th>\n",
              "      <td>1</td>\n",
              "      <td>PAYMENT</td>\n",
              "      <td>7817.71</td>\n",
              "      <td>C90045638</td>\n",
              "      <td>53860.00</td>\n",
              "      <td>46042.29</td>\n",
              "      <td>M573487274</td>\n",
              "      <td>0.00</td>\n",
              "      <td>0.00</td>\n",
              "      <td>0</td>\n",
              "      <td>0</td>\n",
              "    </tr>\n",
              "    <tr>\n",
              "      <th>6</th>\n",
              "      <td>1</td>\n",
              "      <td>PAYMENT</td>\n",
              "      <td>7107.77</td>\n",
              "      <td>C154988899</td>\n",
              "      <td>183195.00</td>\n",
              "      <td>176087.23</td>\n",
              "      <td>M408069119</td>\n",
              "      <td>0.00</td>\n",
              "      <td>0.00</td>\n",
              "      <td>0</td>\n",
              "      <td>0</td>\n",
              "    </tr>\n",
              "    <tr>\n",
              "      <th>7</th>\n",
              "      <td>1</td>\n",
              "      <td>PAYMENT</td>\n",
              "      <td>7861.64</td>\n",
              "      <td>C1912850431</td>\n",
              "      <td>176087.23</td>\n",
              "      <td>168225.59</td>\n",
              "      <td>M633326333</td>\n",
              "      <td>0.00</td>\n",
              "      <td>0.00</td>\n",
              "      <td>0</td>\n",
              "      <td>0</td>\n",
              "    </tr>\n",
              "    <tr>\n",
              "      <th>8</th>\n",
              "      <td>1</td>\n",
              "      <td>PAYMENT</td>\n",
              "      <td>4024.36</td>\n",
              "      <td>C1265012928</td>\n",
              "      <td>2671.00</td>\n",
              "      <td>0.00</td>\n",
              "      <td>M1176932104</td>\n",
              "      <td>0.00</td>\n",
              "      <td>0.00</td>\n",
              "      <td>0</td>\n",
              "      <td>0</td>\n",
              "    </tr>\n",
              "    <tr>\n",
              "      <th>9</th>\n",
              "      <td>1</td>\n",
              "      <td>DEBIT</td>\n",
              "      <td>5337.77</td>\n",
              "      <td>C712410124</td>\n",
              "      <td>41720.00</td>\n",
              "      <td>36382.23</td>\n",
              "      <td>C195600860</td>\n",
              "      <td>41898.00</td>\n",
              "      <td>40348.79</td>\n",
              "      <td>0</td>\n",
              "      <td>0</td>\n",
              "    </tr>\n",
              "    <tr>\n",
              "      <th>10</th>\n",
              "      <td>1</td>\n",
              "      <td>DEBIT</td>\n",
              "      <td>9644.94</td>\n",
              "      <td>C1900366749</td>\n",
              "      <td>4465.00</td>\n",
              "      <td>0.00</td>\n",
              "      <td>C997608398</td>\n",
              "      <td>10845.00</td>\n",
              "      <td>157982.12</td>\n",
              "      <td>0</td>\n",
              "      <td>0</td>\n",
              "    </tr>\n",
              "    <tr>\n",
              "      <th>11</th>\n",
              "      <td>1</td>\n",
              "      <td>PAYMENT</td>\n",
              "      <td>3099.97</td>\n",
              "      <td>C249177573</td>\n",
              "      <td>20771.00</td>\n",
              "      <td>17671.03</td>\n",
              "      <td>M2096539129</td>\n",
              "      <td>0.00</td>\n",
              "      <td>0.00</td>\n",
              "      <td>0</td>\n",
              "      <td>0</td>\n",
              "    </tr>\n",
              "    <tr>\n",
              "      <th>12</th>\n",
              "      <td>1</td>\n",
              "      <td>PAYMENT</td>\n",
              "      <td>2560.74</td>\n",
              "      <td>C1648232591</td>\n",
              "      <td>5070.00</td>\n",
              "      <td>2509.26</td>\n",
              "      <td>M972865270</td>\n",
              "      <td>0.00</td>\n",
              "      <td>0.00</td>\n",
              "      <td>0</td>\n",
              "      <td>0</td>\n",
              "    </tr>\n",
              "    <tr>\n",
              "      <th>13</th>\n",
              "      <td>1</td>\n",
              "      <td>PAYMENT</td>\n",
              "      <td>11633.76</td>\n",
              "      <td>C1716932897</td>\n",
              "      <td>10127.00</td>\n",
              "      <td>0.00</td>\n",
              "      <td>M801569151</td>\n",
              "      <td>0.00</td>\n",
              "      <td>0.00</td>\n",
              "      <td>0</td>\n",
              "      <td>0</td>\n",
              "    </tr>\n",
              "    <tr>\n",
              "      <th>14</th>\n",
              "      <td>1</td>\n",
              "      <td>PAYMENT</td>\n",
              "      <td>4098.78</td>\n",
              "      <td>C1026483832</td>\n",
              "      <td>503264.00</td>\n",
              "      <td>499165.22</td>\n",
              "      <td>M1635378213</td>\n",
              "      <td>0.00</td>\n",
              "      <td>0.00</td>\n",
              "      <td>0</td>\n",
              "      <td>0</td>\n",
              "    </tr>\n",
              "    <tr>\n",
              "      <th>15</th>\n",
              "      <td>1</td>\n",
              "      <td>CASH_OUT</td>\n",
              "      <td>229133.94</td>\n",
              "      <td>C905080434</td>\n",
              "      <td>15325.00</td>\n",
              "      <td>0.00</td>\n",
              "      <td>C476402209</td>\n",
              "      <td>5083.00</td>\n",
              "      <td>51513.44</td>\n",
              "      <td>0</td>\n",
              "      <td>0</td>\n",
              "    </tr>\n",
              "    <tr>\n",
              "      <th>16</th>\n",
              "      <td>1</td>\n",
              "      <td>PAYMENT</td>\n",
              "      <td>1563.82</td>\n",
              "      <td>C761750706</td>\n",
              "      <td>450.00</td>\n",
              "      <td>0.00</td>\n",
              "      <td>M1731217984</td>\n",
              "      <td>0.00</td>\n",
              "      <td>0.00</td>\n",
              "      <td>0</td>\n",
              "      <td>0</td>\n",
              "    </tr>\n",
              "    <tr>\n",
              "      <th>17</th>\n",
              "      <td>1</td>\n",
              "      <td>PAYMENT</td>\n",
              "      <td>1157.86</td>\n",
              "      <td>C1237762639</td>\n",
              "      <td>21156.00</td>\n",
              "      <td>19998.14</td>\n",
              "      <td>M1877062907</td>\n",
              "      <td>0.00</td>\n",
              "      <td>0.00</td>\n",
              "      <td>0</td>\n",
              "      <td>0</td>\n",
              "    </tr>\n",
              "    <tr>\n",
              "      <th>18</th>\n",
              "      <td>1</td>\n",
              "      <td>PAYMENT</td>\n",
              "      <td>671.64</td>\n",
              "      <td>C2033524545</td>\n",
              "      <td>15123.00</td>\n",
              "      <td>14451.36</td>\n",
              "      <td>M473053293</td>\n",
              "      <td>0.00</td>\n",
              "      <td>0.00</td>\n",
              "      <td>0</td>\n",
              "      <td>0</td>\n",
              "    </tr>\n",
              "    <tr>\n",
              "      <th>19</th>\n",
              "      <td>1</td>\n",
              "      <td>TRANSFER</td>\n",
              "      <td>215310.30</td>\n",
              "      <td>C1670993182</td>\n",
              "      <td>705.00</td>\n",
              "      <td>0.00</td>\n",
              "      <td>C1100439041</td>\n",
              "      <td>22425.00</td>\n",
              "      <td>0.00</td>\n",
              "      <td>0</td>\n",
              "      <td>0</td>\n",
              "    </tr>\n",
              "    <tr>\n",
              "      <th>20</th>\n",
              "      <td>1</td>\n",
              "      <td>PAYMENT</td>\n",
              "      <td>1373.43</td>\n",
              "      <td>C20804602</td>\n",
              "      <td>13854.00</td>\n",
              "      <td>12480.57</td>\n",
              "      <td>M1344519051</td>\n",
              "      <td>0.00</td>\n",
              "      <td>0.00</td>\n",
              "      <td>0</td>\n",
              "      <td>0</td>\n",
              "    </tr>\n",
              "    <tr>\n",
              "      <th>21</th>\n",
              "      <td>1</td>\n",
              "      <td>DEBIT</td>\n",
              "      <td>9302.79</td>\n",
              "      <td>C1566511282</td>\n",
              "      <td>11299.00</td>\n",
              "      <td>1996.21</td>\n",
              "      <td>C1973538135</td>\n",
              "      <td>29832.00</td>\n",
              "      <td>16896.70</td>\n",
              "      <td>0</td>\n",
              "      <td>0</td>\n",
              "    </tr>\n",
              "    <tr>\n",
              "      <th>22</th>\n",
              "      <td>1</td>\n",
              "      <td>DEBIT</td>\n",
              "      <td>1065.41</td>\n",
              "      <td>C1959239586</td>\n",
              "      <td>1817.00</td>\n",
              "      <td>751.59</td>\n",
              "      <td>C515132998</td>\n",
              "      <td>10330.00</td>\n",
              "      <td>0.00</td>\n",
              "      <td>0</td>\n",
              "      <td>0</td>\n",
              "    </tr>\n",
              "    <tr>\n",
              "      <th>23</th>\n",
              "      <td>1</td>\n",
              "      <td>PAYMENT</td>\n",
              "      <td>3876.41</td>\n",
              "      <td>C504336483</td>\n",
              "      <td>67852.00</td>\n",
              "      <td>63975.59</td>\n",
              "      <td>M1404932042</td>\n",
              "      <td>0.00</td>\n",
              "      <td>0.00</td>\n",
              "      <td>0</td>\n",
              "      <td>0</td>\n",
              "    </tr>\n",
              "    <tr>\n",
              "      <th>24</th>\n",
              "      <td>1</td>\n",
              "      <td>TRANSFER</td>\n",
              "      <td>311685.89</td>\n",
              "      <td>C1984094095</td>\n",
              "      <td>10835.00</td>\n",
              "      <td>0.00</td>\n",
              "      <td>C932583850</td>\n",
              "      <td>6267.00</td>\n",
              "      <td>2719172.89</td>\n",
              "      <td>0</td>\n",
              "      <td>0</td>\n",
              "    </tr>\n",
              "    <tr>\n",
              "      <th>25</th>\n",
              "      <td>1</td>\n",
              "      <td>PAYMENT</td>\n",
              "      <td>6061.13</td>\n",
              "      <td>C1043358826</td>\n",
              "      <td>443.00</td>\n",
              "      <td>0.00</td>\n",
              "      <td>M1558079303</td>\n",
              "      <td>0.00</td>\n",
              "      <td>0.00</td>\n",
              "      <td>0</td>\n",
              "      <td>0</td>\n",
              "    </tr>\n",
              "    <tr>\n",
              "      <th>26</th>\n",
              "      <td>1</td>\n",
              "      <td>PAYMENT</td>\n",
              "      <td>9478.39</td>\n",
              "      <td>C1671590089</td>\n",
              "      <td>116494.00</td>\n",
              "      <td>107015.61</td>\n",
              "      <td>M58488213</td>\n",
              "      <td>0.00</td>\n",
              "      <td>0.00</td>\n",
              "      <td>0</td>\n",
              "      <td>0</td>\n",
              "    </tr>\n",
              "    <tr>\n",
              "      <th>27</th>\n",
              "      <td>1</td>\n",
              "      <td>PAYMENT</td>\n",
              "      <td>8009.09</td>\n",
              "      <td>C1053967012</td>\n",
              "      <td>10968.00</td>\n",
              "      <td>2958.91</td>\n",
              "      <td>M295304806</td>\n",
              "      <td>0.00</td>\n",
              "      <td>0.00</td>\n",
              "      <td>0</td>\n",
              "      <td>0</td>\n",
              "    </tr>\n",
              "    <tr>\n",
              "      <th>28</th>\n",
              "      <td>1</td>\n",
              "      <td>PAYMENT</td>\n",
              "      <td>8901.99</td>\n",
              "      <td>C1632497828</td>\n",
              "      <td>2958.91</td>\n",
              "      <td>0.00</td>\n",
              "      <td>M33419717</td>\n",
              "      <td>0.00</td>\n",
              "      <td>0.00</td>\n",
              "      <td>0</td>\n",
              "      <td>0</td>\n",
              "    </tr>\n",
              "    <tr>\n",
              "      <th>29</th>\n",
              "      <td>1</td>\n",
              "      <td>PAYMENT</td>\n",
              "      <td>9920.52</td>\n",
              "      <td>C764826684</td>\n",
              "      <td>0.00</td>\n",
              "      <td>0.00</td>\n",
              "      <td>M1940055334</td>\n",
              "      <td>0.00</td>\n",
              "      <td>0.00</td>\n",
              "      <td>0</td>\n",
              "      <td>0</td>\n",
              "    </tr>\n",
              "    <tr>\n",
              "      <th>...</th>\n",
              "      <td>...</td>\n",
              "      <td>...</td>\n",
              "      <td>...</td>\n",
              "      <td>...</td>\n",
              "      <td>...</td>\n",
              "      <td>...</td>\n",
              "      <td>...</td>\n",
              "      <td>...</td>\n",
              "      <td>...</td>\n",
              "      <td>...</td>\n",
              "      <td>...</td>\n",
              "    </tr>\n",
              "    <tr>\n",
              "      <th>6362590</th>\n",
              "      <td>741</td>\n",
              "      <td>TRANSFER</td>\n",
              "      <td>323726.61</td>\n",
              "      <td>C509686434</td>\n",
              "      <td>323726.61</td>\n",
              "      <td>0.00</td>\n",
              "      <td>C1310143791</td>\n",
              "      <td>0.00</td>\n",
              "      <td>0.00</td>\n",
              "      <td>1</td>\n",
              "      <td>0</td>\n",
              "    </tr>\n",
              "    <tr>\n",
              "      <th>6362591</th>\n",
              "      <td>741</td>\n",
              "      <td>CASH_OUT</td>\n",
              "      <td>323726.61</td>\n",
              "      <td>C919525792</td>\n",
              "      <td>323726.61</td>\n",
              "      <td>0.00</td>\n",
              "      <td>C993635374</td>\n",
              "      <td>561753.58</td>\n",
              "      <td>885480.19</td>\n",
              "      <td>1</td>\n",
              "      <td>0</td>\n",
              "    </tr>\n",
              "    <tr>\n",
              "      <th>6362592</th>\n",
              "      <td>741</td>\n",
              "      <td>TRANSFER</td>\n",
              "      <td>383661.10</td>\n",
              "      <td>C457476945</td>\n",
              "      <td>383661.10</td>\n",
              "      <td>0.00</td>\n",
              "      <td>C1688658215</td>\n",
              "      <td>0.00</td>\n",
              "      <td>0.00</td>\n",
              "      <td>1</td>\n",
              "      <td>0</td>\n",
              "    </tr>\n",
              "    <tr>\n",
              "      <th>6362593</th>\n",
              "      <td>741</td>\n",
              "      <td>CASH_OUT</td>\n",
              "      <td>383661.10</td>\n",
              "      <td>C369315575</td>\n",
              "      <td>383661.10</td>\n",
              "      <td>0.00</td>\n",
              "      <td>C2069429837</td>\n",
              "      <td>1788112.70</td>\n",
              "      <td>2171773.80</td>\n",
              "      <td>1</td>\n",
              "      <td>0</td>\n",
              "    </tr>\n",
              "    <tr>\n",
              "      <th>6362594</th>\n",
              "      <td>741</td>\n",
              "      <td>TRANSFER</td>\n",
              "      <td>144945.34</td>\n",
              "      <td>C31496887</td>\n",
              "      <td>144945.34</td>\n",
              "      <td>0.00</td>\n",
              "      <td>C1251365829</td>\n",
              "      <td>0.00</td>\n",
              "      <td>0.00</td>\n",
              "      <td>1</td>\n",
              "      <td>0</td>\n",
              "    </tr>\n",
              "    <tr>\n",
              "      <th>6362595</th>\n",
              "      <td>741</td>\n",
              "      <td>CASH_OUT</td>\n",
              "      <td>144945.34</td>\n",
              "      <td>C1092829426</td>\n",
              "      <td>144945.34</td>\n",
              "      <td>0.00</td>\n",
              "      <td>C716019997</td>\n",
              "      <td>0.00</td>\n",
              "      <td>144945.34</td>\n",
              "      <td>1</td>\n",
              "      <td>0</td>\n",
              "    </tr>\n",
              "    <tr>\n",
              "      <th>6362596</th>\n",
              "      <td>741</td>\n",
              "      <td>TRANSFER</td>\n",
              "      <td>48442.88</td>\n",
              "      <td>C1112979339</td>\n",
              "      <td>48442.88</td>\n",
              "      <td>0.00</td>\n",
              "      <td>C2114078084</td>\n",
              "      <td>0.00</td>\n",
              "      <td>0.00</td>\n",
              "      <td>1</td>\n",
              "      <td>0</td>\n",
              "    </tr>\n",
              "    <tr>\n",
              "      <th>6362597</th>\n",
              "      <td>741</td>\n",
              "      <td>CASH_OUT</td>\n",
              "      <td>48442.88</td>\n",
              "      <td>C1706094385</td>\n",
              "      <td>48442.88</td>\n",
              "      <td>0.00</td>\n",
              "      <td>C2109905271</td>\n",
              "      <td>513746.19</td>\n",
              "      <td>562189.07</td>\n",
              "      <td>1</td>\n",
              "      <td>0</td>\n",
              "    </tr>\n",
              "    <tr>\n",
              "      <th>6362598</th>\n",
              "      <td>742</td>\n",
              "      <td>TRANSFER</td>\n",
              "      <td>4009058.39</td>\n",
              "      <td>C1044665079</td>\n",
              "      <td>4009058.39</td>\n",
              "      <td>0.00</td>\n",
              "      <td>C750074708</td>\n",
              "      <td>0.00</td>\n",
              "      <td>0.00</td>\n",
              "      <td>1</td>\n",
              "      <td>0</td>\n",
              "    </tr>\n",
              "    <tr>\n",
              "      <th>6362599</th>\n",
              "      <td>742</td>\n",
              "      <td>CASH_OUT</td>\n",
              "      <td>4009058.39</td>\n",
              "      <td>C1970706589</td>\n",
              "      <td>4009058.39</td>\n",
              "      <td>0.00</td>\n",
              "      <td>C637394241</td>\n",
              "      <td>1229761.96</td>\n",
              "      <td>5238820.34</td>\n",
              "      <td>1</td>\n",
              "      <td>0</td>\n",
              "    </tr>\n",
              "    <tr>\n",
              "      <th>6362600</th>\n",
              "      <td>742</td>\n",
              "      <td>TRANSFER</td>\n",
              "      <td>652993.91</td>\n",
              "      <td>C40604503</td>\n",
              "      <td>652993.91</td>\n",
              "      <td>0.00</td>\n",
              "      <td>C1166857907</td>\n",
              "      <td>0.00</td>\n",
              "      <td>0.00</td>\n",
              "      <td>1</td>\n",
              "      <td>0</td>\n",
              "    </tr>\n",
              "    <tr>\n",
              "      <th>6362601</th>\n",
              "      <td>742</td>\n",
              "      <td>CASH_OUT</td>\n",
              "      <td>652993.91</td>\n",
              "      <td>C1614818636</td>\n",
              "      <td>652993.91</td>\n",
              "      <td>0.00</td>\n",
              "      <td>C362803701</td>\n",
              "      <td>0.00</td>\n",
              "      <td>652993.91</td>\n",
              "      <td>1</td>\n",
              "      <td>0</td>\n",
              "    </tr>\n",
              "    <tr>\n",
              "      <th>6362602</th>\n",
              "      <td>742</td>\n",
              "      <td>TRANSFER</td>\n",
              "      <td>1819543.69</td>\n",
              "      <td>C2089752665</td>\n",
              "      <td>1819543.69</td>\n",
              "      <td>0.00</td>\n",
              "      <td>C112833674</td>\n",
              "      <td>0.00</td>\n",
              "      <td>0.00</td>\n",
              "      <td>1</td>\n",
              "      <td>0</td>\n",
              "    </tr>\n",
              "    <tr>\n",
              "      <th>6362603</th>\n",
              "      <td>742</td>\n",
              "      <td>CASH_OUT</td>\n",
              "      <td>1819543.69</td>\n",
              "      <td>C1039979813</td>\n",
              "      <td>1819543.69</td>\n",
              "      <td>0.00</td>\n",
              "      <td>C2078394828</td>\n",
              "      <td>0.00</td>\n",
              "      <td>1819543.69</td>\n",
              "      <td>1</td>\n",
              "      <td>0</td>\n",
              "    </tr>\n",
              "    <tr>\n",
              "      <th>6362604</th>\n",
              "      <td>742</td>\n",
              "      <td>TRANSFER</td>\n",
              "      <td>54652.46</td>\n",
              "      <td>C1674778854</td>\n",
              "      <td>54652.46</td>\n",
              "      <td>0.00</td>\n",
              "      <td>C1930074465</td>\n",
              "      <td>0.00</td>\n",
              "      <td>0.00</td>\n",
              "      <td>1</td>\n",
              "      <td>0</td>\n",
              "    </tr>\n",
              "    <tr>\n",
              "      <th>6362605</th>\n",
              "      <td>742</td>\n",
              "      <td>CASH_OUT</td>\n",
              "      <td>54652.46</td>\n",
              "      <td>C43545501</td>\n",
              "      <td>54652.46</td>\n",
              "      <td>0.00</td>\n",
              "      <td>C830041824</td>\n",
              "      <td>0.00</td>\n",
              "      <td>54652.46</td>\n",
              "      <td>1</td>\n",
              "      <td>0</td>\n",
              "    </tr>\n",
              "    <tr>\n",
              "      <th>6362606</th>\n",
              "      <td>742</td>\n",
              "      <td>TRANSFER</td>\n",
              "      <td>303846.74</td>\n",
              "      <td>C959102961</td>\n",
              "      <td>303846.74</td>\n",
              "      <td>0.00</td>\n",
              "      <td>C114421319</td>\n",
              "      <td>0.00</td>\n",
              "      <td>0.00</td>\n",
              "      <td>1</td>\n",
              "      <td>0</td>\n",
              "    </tr>\n",
              "    <tr>\n",
              "      <th>6362607</th>\n",
              "      <td>742</td>\n",
              "      <td>CASH_OUT</td>\n",
              "      <td>303846.74</td>\n",
              "      <td>C1148860488</td>\n",
              "      <td>303846.74</td>\n",
              "      <td>0.00</td>\n",
              "      <td>C846260566</td>\n",
              "      <td>343660.89</td>\n",
              "      <td>647507.63</td>\n",
              "      <td>1</td>\n",
              "      <td>0</td>\n",
              "    </tr>\n",
              "    <tr>\n",
              "      <th>6362608</th>\n",
              "      <td>742</td>\n",
              "      <td>TRANSFER</td>\n",
              "      <td>258355.42</td>\n",
              "      <td>C1226129332</td>\n",
              "      <td>258355.42</td>\n",
              "      <td>0.00</td>\n",
              "      <td>C1744173808</td>\n",
              "      <td>0.00</td>\n",
              "      <td>0.00</td>\n",
              "      <td>1</td>\n",
              "      <td>0</td>\n",
              "    </tr>\n",
              "    <tr>\n",
              "      <th>6362609</th>\n",
              "      <td>742</td>\n",
              "      <td>CASH_OUT</td>\n",
              "      <td>258355.42</td>\n",
              "      <td>C1113162093</td>\n",
              "      <td>258355.42</td>\n",
              "      <td>0.00</td>\n",
              "      <td>C797688696</td>\n",
              "      <td>25176.67</td>\n",
              "      <td>283532.09</td>\n",
              "      <td>1</td>\n",
              "      <td>0</td>\n",
              "    </tr>\n",
              "    <tr>\n",
              "      <th>6362610</th>\n",
              "      <td>742</td>\n",
              "      <td>TRANSFER</td>\n",
              "      <td>63416.99</td>\n",
              "      <td>C778071008</td>\n",
              "      <td>63416.99</td>\n",
              "      <td>0.00</td>\n",
              "      <td>C1812552860</td>\n",
              "      <td>0.00</td>\n",
              "      <td>0.00</td>\n",
              "      <td>1</td>\n",
              "      <td>0</td>\n",
              "    </tr>\n",
              "    <tr>\n",
              "      <th>6362611</th>\n",
              "      <td>742</td>\n",
              "      <td>CASH_OUT</td>\n",
              "      <td>63416.99</td>\n",
              "      <td>C994950684</td>\n",
              "      <td>63416.99</td>\n",
              "      <td>0.00</td>\n",
              "      <td>C1662241365</td>\n",
              "      <td>276433.18</td>\n",
              "      <td>339850.17</td>\n",
              "      <td>1</td>\n",
              "      <td>0</td>\n",
              "    </tr>\n",
              "    <tr>\n",
              "      <th>6362612</th>\n",
              "      <td>743</td>\n",
              "      <td>TRANSFER</td>\n",
              "      <td>1258818.82</td>\n",
              "      <td>C1531301470</td>\n",
              "      <td>1258818.82</td>\n",
              "      <td>0.00</td>\n",
              "      <td>C1470998563</td>\n",
              "      <td>0.00</td>\n",
              "      <td>0.00</td>\n",
              "      <td>1</td>\n",
              "      <td>0</td>\n",
              "    </tr>\n",
              "    <tr>\n",
              "      <th>6362613</th>\n",
              "      <td>743</td>\n",
              "      <td>CASH_OUT</td>\n",
              "      <td>1258818.82</td>\n",
              "      <td>C1436118706</td>\n",
              "      <td>1258818.82</td>\n",
              "      <td>0.00</td>\n",
              "      <td>C1240760502</td>\n",
              "      <td>503464.50</td>\n",
              "      <td>1762283.33</td>\n",
              "      <td>1</td>\n",
              "      <td>0</td>\n",
              "    </tr>\n",
              "    <tr>\n",
              "      <th>6362614</th>\n",
              "      <td>743</td>\n",
              "      <td>TRANSFER</td>\n",
              "      <td>339682.13</td>\n",
              "      <td>C2013999242</td>\n",
              "      <td>339682.13</td>\n",
              "      <td>0.00</td>\n",
              "      <td>C1850423904</td>\n",
              "      <td>0.00</td>\n",
              "      <td>0.00</td>\n",
              "      <td>1</td>\n",
              "      <td>0</td>\n",
              "    </tr>\n",
              "    <tr>\n",
              "      <th>6362615</th>\n",
              "      <td>743</td>\n",
              "      <td>CASH_OUT</td>\n",
              "      <td>339682.13</td>\n",
              "      <td>C786484425</td>\n",
              "      <td>339682.13</td>\n",
              "      <td>0.00</td>\n",
              "      <td>C776919290</td>\n",
              "      <td>0.00</td>\n",
              "      <td>339682.13</td>\n",
              "      <td>1</td>\n",
              "      <td>0</td>\n",
              "    </tr>\n",
              "    <tr>\n",
              "      <th>6362616</th>\n",
              "      <td>743</td>\n",
              "      <td>TRANSFER</td>\n",
              "      <td>6311409.28</td>\n",
              "      <td>C1529008245</td>\n",
              "      <td>6311409.28</td>\n",
              "      <td>0.00</td>\n",
              "      <td>C1881841831</td>\n",
              "      <td>0.00</td>\n",
              "      <td>0.00</td>\n",
              "      <td>1</td>\n",
              "      <td>0</td>\n",
              "    </tr>\n",
              "    <tr>\n",
              "      <th>6362617</th>\n",
              "      <td>743</td>\n",
              "      <td>CASH_OUT</td>\n",
              "      <td>6311409.28</td>\n",
              "      <td>C1162922333</td>\n",
              "      <td>6311409.28</td>\n",
              "      <td>0.00</td>\n",
              "      <td>C1365125890</td>\n",
              "      <td>68488.84</td>\n",
              "      <td>6379898.11</td>\n",
              "      <td>1</td>\n",
              "      <td>0</td>\n",
              "    </tr>\n",
              "    <tr>\n",
              "      <th>6362618</th>\n",
              "      <td>743</td>\n",
              "      <td>TRANSFER</td>\n",
              "      <td>850002.52</td>\n",
              "      <td>C1685995037</td>\n",
              "      <td>850002.52</td>\n",
              "      <td>0.00</td>\n",
              "      <td>C2080388513</td>\n",
              "      <td>0.00</td>\n",
              "      <td>0.00</td>\n",
              "      <td>1</td>\n",
              "      <td>0</td>\n",
              "    </tr>\n",
              "    <tr>\n",
              "      <th>6362619</th>\n",
              "      <td>743</td>\n",
              "      <td>CASH_OUT</td>\n",
              "      <td>850002.52</td>\n",
              "      <td>C1280323807</td>\n",
              "      <td>850002.52</td>\n",
              "      <td>0.00</td>\n",
              "      <td>C873221189</td>\n",
              "      <td>6510099.11</td>\n",
              "      <td>7360101.63</td>\n",
              "      <td>1</td>\n",
              "      <td>0</td>\n",
              "    </tr>\n",
              "  </tbody>\n",
              "</table>\n",
              "<p>6362620 rows × 11 columns</p>\n",
              "</div>"
            ],
            "text/plain": [
              "         step      type      amount  ... newbalanceDest  isFraud  isFlaggedFraud\n",
              "0           1   PAYMENT     9839.64  ...           0.00        0               0\n",
              "1           1   PAYMENT     1864.28  ...           0.00        0               0\n",
              "2           1  TRANSFER      181.00  ...           0.00        1               0\n",
              "3           1  CASH_OUT      181.00  ...           0.00        1               0\n",
              "4           1   PAYMENT    11668.14  ...           0.00        0               0\n",
              "5           1   PAYMENT     7817.71  ...           0.00        0               0\n",
              "6           1   PAYMENT     7107.77  ...           0.00        0               0\n",
              "7           1   PAYMENT     7861.64  ...           0.00        0               0\n",
              "8           1   PAYMENT     4024.36  ...           0.00        0               0\n",
              "9           1     DEBIT     5337.77  ...       40348.79        0               0\n",
              "10          1     DEBIT     9644.94  ...      157982.12        0               0\n",
              "11          1   PAYMENT     3099.97  ...           0.00        0               0\n",
              "12          1   PAYMENT     2560.74  ...           0.00        0               0\n",
              "13          1   PAYMENT    11633.76  ...           0.00        0               0\n",
              "14          1   PAYMENT     4098.78  ...           0.00        0               0\n",
              "15          1  CASH_OUT   229133.94  ...       51513.44        0               0\n",
              "16          1   PAYMENT     1563.82  ...           0.00        0               0\n",
              "17          1   PAYMENT     1157.86  ...           0.00        0               0\n",
              "18          1   PAYMENT      671.64  ...           0.00        0               0\n",
              "19          1  TRANSFER   215310.30  ...           0.00        0               0\n",
              "20          1   PAYMENT     1373.43  ...           0.00        0               0\n",
              "21          1     DEBIT     9302.79  ...       16896.70        0               0\n",
              "22          1     DEBIT     1065.41  ...           0.00        0               0\n",
              "23          1   PAYMENT     3876.41  ...           0.00        0               0\n",
              "24          1  TRANSFER   311685.89  ...     2719172.89        0               0\n",
              "25          1   PAYMENT     6061.13  ...           0.00        0               0\n",
              "26          1   PAYMENT     9478.39  ...           0.00        0               0\n",
              "27          1   PAYMENT     8009.09  ...           0.00        0               0\n",
              "28          1   PAYMENT     8901.99  ...           0.00        0               0\n",
              "29          1   PAYMENT     9920.52  ...           0.00        0               0\n",
              "...       ...       ...         ...  ...            ...      ...             ...\n",
              "6362590   741  TRANSFER   323726.61  ...           0.00        1               0\n",
              "6362591   741  CASH_OUT   323726.61  ...      885480.19        1               0\n",
              "6362592   741  TRANSFER   383661.10  ...           0.00        1               0\n",
              "6362593   741  CASH_OUT   383661.10  ...     2171773.80        1               0\n",
              "6362594   741  TRANSFER   144945.34  ...           0.00        1               0\n",
              "6362595   741  CASH_OUT   144945.34  ...      144945.34        1               0\n",
              "6362596   741  TRANSFER    48442.88  ...           0.00        1               0\n",
              "6362597   741  CASH_OUT    48442.88  ...      562189.07        1               0\n",
              "6362598   742  TRANSFER  4009058.39  ...           0.00        1               0\n",
              "6362599   742  CASH_OUT  4009058.39  ...     5238820.34        1               0\n",
              "6362600   742  TRANSFER   652993.91  ...           0.00        1               0\n",
              "6362601   742  CASH_OUT   652993.91  ...      652993.91        1               0\n",
              "6362602   742  TRANSFER  1819543.69  ...           0.00        1               0\n",
              "6362603   742  CASH_OUT  1819543.69  ...     1819543.69        1               0\n",
              "6362604   742  TRANSFER    54652.46  ...           0.00        1               0\n",
              "6362605   742  CASH_OUT    54652.46  ...       54652.46        1               0\n",
              "6362606   742  TRANSFER   303846.74  ...           0.00        1               0\n",
              "6362607   742  CASH_OUT   303846.74  ...      647507.63        1               0\n",
              "6362608   742  TRANSFER   258355.42  ...           0.00        1               0\n",
              "6362609   742  CASH_OUT   258355.42  ...      283532.09        1               0\n",
              "6362610   742  TRANSFER    63416.99  ...           0.00        1               0\n",
              "6362611   742  CASH_OUT    63416.99  ...      339850.17        1               0\n",
              "6362612   743  TRANSFER  1258818.82  ...           0.00        1               0\n",
              "6362613   743  CASH_OUT  1258818.82  ...     1762283.33        1               0\n",
              "6362614   743  TRANSFER   339682.13  ...           0.00        1               0\n",
              "6362615   743  CASH_OUT   339682.13  ...      339682.13        1               0\n",
              "6362616   743  TRANSFER  6311409.28  ...           0.00        1               0\n",
              "6362617   743  CASH_OUT  6311409.28  ...     6379898.11        1               0\n",
              "6362618   743  TRANSFER   850002.52  ...           0.00        1               0\n",
              "6362619   743  CASH_OUT   850002.52  ...     7360101.63        1               0\n",
              "\n",
              "[6362620 rows x 11 columns]"
            ]
          },
          "metadata": {
            "tags": []
          },
          "execution_count": 94
        }
      ]
    },
    {
      "cell_type": "code",
      "metadata": {
        "colab": {
          "base_uri": "https://localhost:8080/"
        },
        "id": "4lgZgX3ZOKqt",
        "outputId": "9ae3248b-1022-4dd5-b8be-dfdf7ea033cd"
      },
      "source": [
        "file.info()"
      ],
      "execution_count": null,
      "outputs": [
        {
          "output_type": "stream",
          "text": [
            "<class 'pandas.core.frame.DataFrame'>\n",
            "RangeIndex: 6362620 entries, 0 to 6362619\n",
            "Data columns (total 11 columns):\n",
            "step              int64\n",
            "type              object\n",
            "amount            float64\n",
            "nameOrig          object\n",
            "oldbalanceOrg     float64\n",
            "newbalanceOrig    float64\n",
            "nameDest          object\n",
            "oldbalanceDest    float64\n",
            "newbalanceDest    float64\n",
            "isFraud           int64\n",
            "isFlaggedFraud    int64\n",
            "dtypes: float64(5), int64(3), object(3)\n",
            "memory usage: 534.0+ MB\n"
          ],
          "name": "stdout"
        }
      ]
    },
    {
      "cell_type": "markdown",
      "metadata": {
        "id": "_VUmfuj1aWtZ"
      },
      "source": [
        "Dari hasil output tersebut, dapat diketahui bahwa data yang penulis miliki terdiri dari 6362619 entries, 11 variabel yaitu 3 variabel ( type, nameOrig ,nameDest ) yang memuliki tipe data objek, dan 3 variabel (step, isFraud, dan isFlaggedFraud)yang memiliki tipe data integer, juga 5 varibel ( amount,oldbalanceOrg,oldbalanceDest, newbalanceDest, newbalanceOrig ) yang memiliki tipe float"
      ]
    },
    {
      "cell_type": "code",
      "metadata": {
        "id": "rzRHrRmN1xDY"
      },
      "source": [
        "file.drop(['nameOrig', 'nameDest'], axis=1, inplace=True)"
      ],
      "execution_count": null,
      "outputs": []
    },
    {
      "cell_type": "markdown",
      "metadata": {
        "id": "itv1_L2P9r9P"
      },
      "source": [
        "Menghapus 'nameOrig' dan 'nameDest' karena datanya berbentuk objeck dan tidak berpengaruh"
      ]
    },
    {
      "cell_type": "code",
      "metadata": {
        "colab": {
          "base_uri": "https://localhost:8080/",
          "height": 1000
        },
        "id": "yJmOzb8t15Bi",
        "outputId": "b47dd216-c7f6-4dd1-fb9f-6de5744a091c"
      },
      "source": [
        "file"
      ],
      "execution_count": null,
      "outputs": [
        {
          "output_type": "execute_result",
          "data": {
            "text/html": [
              "<div>\n",
              "<style scoped>\n",
              "    .dataframe tbody tr th:only-of-type {\n",
              "        vertical-align: middle;\n",
              "    }\n",
              "\n",
              "    .dataframe tbody tr th {\n",
              "        vertical-align: top;\n",
              "    }\n",
              "\n",
              "    .dataframe thead th {\n",
              "        text-align: right;\n",
              "    }\n",
              "</style>\n",
              "<table border=\"1\" class=\"dataframe\">\n",
              "  <thead>\n",
              "    <tr style=\"text-align: right;\">\n",
              "      <th></th>\n",
              "      <th>step</th>\n",
              "      <th>type</th>\n",
              "      <th>amount</th>\n",
              "      <th>oldbalanceOrg</th>\n",
              "      <th>newbalanceOrig</th>\n",
              "      <th>oldbalanceDest</th>\n",
              "      <th>newbalanceDest</th>\n",
              "      <th>isFraud</th>\n",
              "      <th>isFlaggedFraud</th>\n",
              "    </tr>\n",
              "  </thead>\n",
              "  <tbody>\n",
              "    <tr>\n",
              "      <th>0</th>\n",
              "      <td>1</td>\n",
              "      <td>PAYMENT</td>\n",
              "      <td>9839.64</td>\n",
              "      <td>170136.00</td>\n",
              "      <td>160296.36</td>\n",
              "      <td>0.00</td>\n",
              "      <td>0.00</td>\n",
              "      <td>0</td>\n",
              "      <td>0</td>\n",
              "    </tr>\n",
              "    <tr>\n",
              "      <th>1</th>\n",
              "      <td>1</td>\n",
              "      <td>PAYMENT</td>\n",
              "      <td>1864.28</td>\n",
              "      <td>21249.00</td>\n",
              "      <td>19384.72</td>\n",
              "      <td>0.00</td>\n",
              "      <td>0.00</td>\n",
              "      <td>0</td>\n",
              "      <td>0</td>\n",
              "    </tr>\n",
              "    <tr>\n",
              "      <th>2</th>\n",
              "      <td>1</td>\n",
              "      <td>TRANSFER</td>\n",
              "      <td>181.00</td>\n",
              "      <td>181.00</td>\n",
              "      <td>0.00</td>\n",
              "      <td>0.00</td>\n",
              "      <td>0.00</td>\n",
              "      <td>1</td>\n",
              "      <td>0</td>\n",
              "    </tr>\n",
              "    <tr>\n",
              "      <th>3</th>\n",
              "      <td>1</td>\n",
              "      <td>CASH_OUT</td>\n",
              "      <td>181.00</td>\n",
              "      <td>181.00</td>\n",
              "      <td>0.00</td>\n",
              "      <td>21182.00</td>\n",
              "      <td>0.00</td>\n",
              "      <td>1</td>\n",
              "      <td>0</td>\n",
              "    </tr>\n",
              "    <tr>\n",
              "      <th>4</th>\n",
              "      <td>1</td>\n",
              "      <td>PAYMENT</td>\n",
              "      <td>11668.14</td>\n",
              "      <td>41554.00</td>\n",
              "      <td>29885.86</td>\n",
              "      <td>0.00</td>\n",
              "      <td>0.00</td>\n",
              "      <td>0</td>\n",
              "      <td>0</td>\n",
              "    </tr>\n",
              "    <tr>\n",
              "      <th>5</th>\n",
              "      <td>1</td>\n",
              "      <td>PAYMENT</td>\n",
              "      <td>7817.71</td>\n",
              "      <td>53860.00</td>\n",
              "      <td>46042.29</td>\n",
              "      <td>0.00</td>\n",
              "      <td>0.00</td>\n",
              "      <td>0</td>\n",
              "      <td>0</td>\n",
              "    </tr>\n",
              "    <tr>\n",
              "      <th>6</th>\n",
              "      <td>1</td>\n",
              "      <td>PAYMENT</td>\n",
              "      <td>7107.77</td>\n",
              "      <td>183195.00</td>\n",
              "      <td>176087.23</td>\n",
              "      <td>0.00</td>\n",
              "      <td>0.00</td>\n",
              "      <td>0</td>\n",
              "      <td>0</td>\n",
              "    </tr>\n",
              "    <tr>\n",
              "      <th>7</th>\n",
              "      <td>1</td>\n",
              "      <td>PAYMENT</td>\n",
              "      <td>7861.64</td>\n",
              "      <td>176087.23</td>\n",
              "      <td>168225.59</td>\n",
              "      <td>0.00</td>\n",
              "      <td>0.00</td>\n",
              "      <td>0</td>\n",
              "      <td>0</td>\n",
              "    </tr>\n",
              "    <tr>\n",
              "      <th>8</th>\n",
              "      <td>1</td>\n",
              "      <td>PAYMENT</td>\n",
              "      <td>4024.36</td>\n",
              "      <td>2671.00</td>\n",
              "      <td>0.00</td>\n",
              "      <td>0.00</td>\n",
              "      <td>0.00</td>\n",
              "      <td>0</td>\n",
              "      <td>0</td>\n",
              "    </tr>\n",
              "    <tr>\n",
              "      <th>9</th>\n",
              "      <td>1</td>\n",
              "      <td>DEBIT</td>\n",
              "      <td>5337.77</td>\n",
              "      <td>41720.00</td>\n",
              "      <td>36382.23</td>\n",
              "      <td>41898.00</td>\n",
              "      <td>40348.79</td>\n",
              "      <td>0</td>\n",
              "      <td>0</td>\n",
              "    </tr>\n",
              "    <tr>\n",
              "      <th>10</th>\n",
              "      <td>1</td>\n",
              "      <td>DEBIT</td>\n",
              "      <td>9644.94</td>\n",
              "      <td>4465.00</td>\n",
              "      <td>0.00</td>\n",
              "      <td>10845.00</td>\n",
              "      <td>157982.12</td>\n",
              "      <td>0</td>\n",
              "      <td>0</td>\n",
              "    </tr>\n",
              "    <tr>\n",
              "      <th>11</th>\n",
              "      <td>1</td>\n",
              "      <td>PAYMENT</td>\n",
              "      <td>3099.97</td>\n",
              "      <td>20771.00</td>\n",
              "      <td>17671.03</td>\n",
              "      <td>0.00</td>\n",
              "      <td>0.00</td>\n",
              "      <td>0</td>\n",
              "      <td>0</td>\n",
              "    </tr>\n",
              "    <tr>\n",
              "      <th>12</th>\n",
              "      <td>1</td>\n",
              "      <td>PAYMENT</td>\n",
              "      <td>2560.74</td>\n",
              "      <td>5070.00</td>\n",
              "      <td>2509.26</td>\n",
              "      <td>0.00</td>\n",
              "      <td>0.00</td>\n",
              "      <td>0</td>\n",
              "      <td>0</td>\n",
              "    </tr>\n",
              "    <tr>\n",
              "      <th>13</th>\n",
              "      <td>1</td>\n",
              "      <td>PAYMENT</td>\n",
              "      <td>11633.76</td>\n",
              "      <td>10127.00</td>\n",
              "      <td>0.00</td>\n",
              "      <td>0.00</td>\n",
              "      <td>0.00</td>\n",
              "      <td>0</td>\n",
              "      <td>0</td>\n",
              "    </tr>\n",
              "    <tr>\n",
              "      <th>14</th>\n",
              "      <td>1</td>\n",
              "      <td>PAYMENT</td>\n",
              "      <td>4098.78</td>\n",
              "      <td>503264.00</td>\n",
              "      <td>499165.22</td>\n",
              "      <td>0.00</td>\n",
              "      <td>0.00</td>\n",
              "      <td>0</td>\n",
              "      <td>0</td>\n",
              "    </tr>\n",
              "    <tr>\n",
              "      <th>15</th>\n",
              "      <td>1</td>\n",
              "      <td>CASH_OUT</td>\n",
              "      <td>229133.94</td>\n",
              "      <td>15325.00</td>\n",
              "      <td>0.00</td>\n",
              "      <td>5083.00</td>\n",
              "      <td>51513.44</td>\n",
              "      <td>0</td>\n",
              "      <td>0</td>\n",
              "    </tr>\n",
              "    <tr>\n",
              "      <th>16</th>\n",
              "      <td>1</td>\n",
              "      <td>PAYMENT</td>\n",
              "      <td>1563.82</td>\n",
              "      <td>450.00</td>\n",
              "      <td>0.00</td>\n",
              "      <td>0.00</td>\n",
              "      <td>0.00</td>\n",
              "      <td>0</td>\n",
              "      <td>0</td>\n",
              "    </tr>\n",
              "    <tr>\n",
              "      <th>17</th>\n",
              "      <td>1</td>\n",
              "      <td>PAYMENT</td>\n",
              "      <td>1157.86</td>\n",
              "      <td>21156.00</td>\n",
              "      <td>19998.14</td>\n",
              "      <td>0.00</td>\n",
              "      <td>0.00</td>\n",
              "      <td>0</td>\n",
              "      <td>0</td>\n",
              "    </tr>\n",
              "    <tr>\n",
              "      <th>18</th>\n",
              "      <td>1</td>\n",
              "      <td>PAYMENT</td>\n",
              "      <td>671.64</td>\n",
              "      <td>15123.00</td>\n",
              "      <td>14451.36</td>\n",
              "      <td>0.00</td>\n",
              "      <td>0.00</td>\n",
              "      <td>0</td>\n",
              "      <td>0</td>\n",
              "    </tr>\n",
              "    <tr>\n",
              "      <th>19</th>\n",
              "      <td>1</td>\n",
              "      <td>TRANSFER</td>\n",
              "      <td>215310.30</td>\n",
              "      <td>705.00</td>\n",
              "      <td>0.00</td>\n",
              "      <td>22425.00</td>\n",
              "      <td>0.00</td>\n",
              "      <td>0</td>\n",
              "      <td>0</td>\n",
              "    </tr>\n",
              "    <tr>\n",
              "      <th>20</th>\n",
              "      <td>1</td>\n",
              "      <td>PAYMENT</td>\n",
              "      <td>1373.43</td>\n",
              "      <td>13854.00</td>\n",
              "      <td>12480.57</td>\n",
              "      <td>0.00</td>\n",
              "      <td>0.00</td>\n",
              "      <td>0</td>\n",
              "      <td>0</td>\n",
              "    </tr>\n",
              "    <tr>\n",
              "      <th>21</th>\n",
              "      <td>1</td>\n",
              "      <td>DEBIT</td>\n",
              "      <td>9302.79</td>\n",
              "      <td>11299.00</td>\n",
              "      <td>1996.21</td>\n",
              "      <td>29832.00</td>\n",
              "      <td>16896.70</td>\n",
              "      <td>0</td>\n",
              "      <td>0</td>\n",
              "    </tr>\n",
              "    <tr>\n",
              "      <th>22</th>\n",
              "      <td>1</td>\n",
              "      <td>DEBIT</td>\n",
              "      <td>1065.41</td>\n",
              "      <td>1817.00</td>\n",
              "      <td>751.59</td>\n",
              "      <td>10330.00</td>\n",
              "      <td>0.00</td>\n",
              "      <td>0</td>\n",
              "      <td>0</td>\n",
              "    </tr>\n",
              "    <tr>\n",
              "      <th>23</th>\n",
              "      <td>1</td>\n",
              "      <td>PAYMENT</td>\n",
              "      <td>3876.41</td>\n",
              "      <td>67852.00</td>\n",
              "      <td>63975.59</td>\n",
              "      <td>0.00</td>\n",
              "      <td>0.00</td>\n",
              "      <td>0</td>\n",
              "      <td>0</td>\n",
              "    </tr>\n",
              "    <tr>\n",
              "      <th>24</th>\n",
              "      <td>1</td>\n",
              "      <td>TRANSFER</td>\n",
              "      <td>311685.89</td>\n",
              "      <td>10835.00</td>\n",
              "      <td>0.00</td>\n",
              "      <td>6267.00</td>\n",
              "      <td>2719172.89</td>\n",
              "      <td>0</td>\n",
              "      <td>0</td>\n",
              "    </tr>\n",
              "    <tr>\n",
              "      <th>25</th>\n",
              "      <td>1</td>\n",
              "      <td>PAYMENT</td>\n",
              "      <td>6061.13</td>\n",
              "      <td>443.00</td>\n",
              "      <td>0.00</td>\n",
              "      <td>0.00</td>\n",
              "      <td>0.00</td>\n",
              "      <td>0</td>\n",
              "      <td>0</td>\n",
              "    </tr>\n",
              "    <tr>\n",
              "      <th>26</th>\n",
              "      <td>1</td>\n",
              "      <td>PAYMENT</td>\n",
              "      <td>9478.39</td>\n",
              "      <td>116494.00</td>\n",
              "      <td>107015.61</td>\n",
              "      <td>0.00</td>\n",
              "      <td>0.00</td>\n",
              "      <td>0</td>\n",
              "      <td>0</td>\n",
              "    </tr>\n",
              "    <tr>\n",
              "      <th>27</th>\n",
              "      <td>1</td>\n",
              "      <td>PAYMENT</td>\n",
              "      <td>8009.09</td>\n",
              "      <td>10968.00</td>\n",
              "      <td>2958.91</td>\n",
              "      <td>0.00</td>\n",
              "      <td>0.00</td>\n",
              "      <td>0</td>\n",
              "      <td>0</td>\n",
              "    </tr>\n",
              "    <tr>\n",
              "      <th>28</th>\n",
              "      <td>1</td>\n",
              "      <td>PAYMENT</td>\n",
              "      <td>8901.99</td>\n",
              "      <td>2958.91</td>\n",
              "      <td>0.00</td>\n",
              "      <td>0.00</td>\n",
              "      <td>0.00</td>\n",
              "      <td>0</td>\n",
              "      <td>0</td>\n",
              "    </tr>\n",
              "    <tr>\n",
              "      <th>29</th>\n",
              "      <td>1</td>\n",
              "      <td>PAYMENT</td>\n",
              "      <td>9920.52</td>\n",
              "      <td>0.00</td>\n",
              "      <td>0.00</td>\n",
              "      <td>0.00</td>\n",
              "      <td>0.00</td>\n",
              "      <td>0</td>\n",
              "      <td>0</td>\n",
              "    </tr>\n",
              "    <tr>\n",
              "      <th>...</th>\n",
              "      <td>...</td>\n",
              "      <td>...</td>\n",
              "      <td>...</td>\n",
              "      <td>...</td>\n",
              "      <td>...</td>\n",
              "      <td>...</td>\n",
              "      <td>...</td>\n",
              "      <td>...</td>\n",
              "      <td>...</td>\n",
              "    </tr>\n",
              "    <tr>\n",
              "      <th>6362590</th>\n",
              "      <td>741</td>\n",
              "      <td>TRANSFER</td>\n",
              "      <td>323726.61</td>\n",
              "      <td>323726.61</td>\n",
              "      <td>0.00</td>\n",
              "      <td>0.00</td>\n",
              "      <td>0.00</td>\n",
              "      <td>1</td>\n",
              "      <td>0</td>\n",
              "    </tr>\n",
              "    <tr>\n",
              "      <th>6362591</th>\n",
              "      <td>741</td>\n",
              "      <td>CASH_OUT</td>\n",
              "      <td>323726.61</td>\n",
              "      <td>323726.61</td>\n",
              "      <td>0.00</td>\n",
              "      <td>561753.58</td>\n",
              "      <td>885480.19</td>\n",
              "      <td>1</td>\n",
              "      <td>0</td>\n",
              "    </tr>\n",
              "    <tr>\n",
              "      <th>6362592</th>\n",
              "      <td>741</td>\n",
              "      <td>TRANSFER</td>\n",
              "      <td>383661.10</td>\n",
              "      <td>383661.10</td>\n",
              "      <td>0.00</td>\n",
              "      <td>0.00</td>\n",
              "      <td>0.00</td>\n",
              "      <td>1</td>\n",
              "      <td>0</td>\n",
              "    </tr>\n",
              "    <tr>\n",
              "      <th>6362593</th>\n",
              "      <td>741</td>\n",
              "      <td>CASH_OUT</td>\n",
              "      <td>383661.10</td>\n",
              "      <td>383661.10</td>\n",
              "      <td>0.00</td>\n",
              "      <td>1788112.70</td>\n",
              "      <td>2171773.80</td>\n",
              "      <td>1</td>\n",
              "      <td>0</td>\n",
              "    </tr>\n",
              "    <tr>\n",
              "      <th>6362594</th>\n",
              "      <td>741</td>\n",
              "      <td>TRANSFER</td>\n",
              "      <td>144945.34</td>\n",
              "      <td>144945.34</td>\n",
              "      <td>0.00</td>\n",
              "      <td>0.00</td>\n",
              "      <td>0.00</td>\n",
              "      <td>1</td>\n",
              "      <td>0</td>\n",
              "    </tr>\n",
              "    <tr>\n",
              "      <th>6362595</th>\n",
              "      <td>741</td>\n",
              "      <td>CASH_OUT</td>\n",
              "      <td>144945.34</td>\n",
              "      <td>144945.34</td>\n",
              "      <td>0.00</td>\n",
              "      <td>0.00</td>\n",
              "      <td>144945.34</td>\n",
              "      <td>1</td>\n",
              "      <td>0</td>\n",
              "    </tr>\n",
              "    <tr>\n",
              "      <th>6362596</th>\n",
              "      <td>741</td>\n",
              "      <td>TRANSFER</td>\n",
              "      <td>48442.88</td>\n",
              "      <td>48442.88</td>\n",
              "      <td>0.00</td>\n",
              "      <td>0.00</td>\n",
              "      <td>0.00</td>\n",
              "      <td>1</td>\n",
              "      <td>0</td>\n",
              "    </tr>\n",
              "    <tr>\n",
              "      <th>6362597</th>\n",
              "      <td>741</td>\n",
              "      <td>CASH_OUT</td>\n",
              "      <td>48442.88</td>\n",
              "      <td>48442.88</td>\n",
              "      <td>0.00</td>\n",
              "      <td>513746.19</td>\n",
              "      <td>562189.07</td>\n",
              "      <td>1</td>\n",
              "      <td>0</td>\n",
              "    </tr>\n",
              "    <tr>\n",
              "      <th>6362598</th>\n",
              "      <td>742</td>\n",
              "      <td>TRANSFER</td>\n",
              "      <td>4009058.39</td>\n",
              "      <td>4009058.39</td>\n",
              "      <td>0.00</td>\n",
              "      <td>0.00</td>\n",
              "      <td>0.00</td>\n",
              "      <td>1</td>\n",
              "      <td>0</td>\n",
              "    </tr>\n",
              "    <tr>\n",
              "      <th>6362599</th>\n",
              "      <td>742</td>\n",
              "      <td>CASH_OUT</td>\n",
              "      <td>4009058.39</td>\n",
              "      <td>4009058.39</td>\n",
              "      <td>0.00</td>\n",
              "      <td>1229761.96</td>\n",
              "      <td>5238820.34</td>\n",
              "      <td>1</td>\n",
              "      <td>0</td>\n",
              "    </tr>\n",
              "    <tr>\n",
              "      <th>6362600</th>\n",
              "      <td>742</td>\n",
              "      <td>TRANSFER</td>\n",
              "      <td>652993.91</td>\n",
              "      <td>652993.91</td>\n",
              "      <td>0.00</td>\n",
              "      <td>0.00</td>\n",
              "      <td>0.00</td>\n",
              "      <td>1</td>\n",
              "      <td>0</td>\n",
              "    </tr>\n",
              "    <tr>\n",
              "      <th>6362601</th>\n",
              "      <td>742</td>\n",
              "      <td>CASH_OUT</td>\n",
              "      <td>652993.91</td>\n",
              "      <td>652993.91</td>\n",
              "      <td>0.00</td>\n",
              "      <td>0.00</td>\n",
              "      <td>652993.91</td>\n",
              "      <td>1</td>\n",
              "      <td>0</td>\n",
              "    </tr>\n",
              "    <tr>\n",
              "      <th>6362602</th>\n",
              "      <td>742</td>\n",
              "      <td>TRANSFER</td>\n",
              "      <td>1819543.69</td>\n",
              "      <td>1819543.69</td>\n",
              "      <td>0.00</td>\n",
              "      <td>0.00</td>\n",
              "      <td>0.00</td>\n",
              "      <td>1</td>\n",
              "      <td>0</td>\n",
              "    </tr>\n",
              "    <tr>\n",
              "      <th>6362603</th>\n",
              "      <td>742</td>\n",
              "      <td>CASH_OUT</td>\n",
              "      <td>1819543.69</td>\n",
              "      <td>1819543.69</td>\n",
              "      <td>0.00</td>\n",
              "      <td>0.00</td>\n",
              "      <td>1819543.69</td>\n",
              "      <td>1</td>\n",
              "      <td>0</td>\n",
              "    </tr>\n",
              "    <tr>\n",
              "      <th>6362604</th>\n",
              "      <td>742</td>\n",
              "      <td>TRANSFER</td>\n",
              "      <td>54652.46</td>\n",
              "      <td>54652.46</td>\n",
              "      <td>0.00</td>\n",
              "      <td>0.00</td>\n",
              "      <td>0.00</td>\n",
              "      <td>1</td>\n",
              "      <td>0</td>\n",
              "    </tr>\n",
              "    <tr>\n",
              "      <th>6362605</th>\n",
              "      <td>742</td>\n",
              "      <td>CASH_OUT</td>\n",
              "      <td>54652.46</td>\n",
              "      <td>54652.46</td>\n",
              "      <td>0.00</td>\n",
              "      <td>0.00</td>\n",
              "      <td>54652.46</td>\n",
              "      <td>1</td>\n",
              "      <td>0</td>\n",
              "    </tr>\n",
              "    <tr>\n",
              "      <th>6362606</th>\n",
              "      <td>742</td>\n",
              "      <td>TRANSFER</td>\n",
              "      <td>303846.74</td>\n",
              "      <td>303846.74</td>\n",
              "      <td>0.00</td>\n",
              "      <td>0.00</td>\n",
              "      <td>0.00</td>\n",
              "      <td>1</td>\n",
              "      <td>0</td>\n",
              "    </tr>\n",
              "    <tr>\n",
              "      <th>6362607</th>\n",
              "      <td>742</td>\n",
              "      <td>CASH_OUT</td>\n",
              "      <td>303846.74</td>\n",
              "      <td>303846.74</td>\n",
              "      <td>0.00</td>\n",
              "      <td>343660.89</td>\n",
              "      <td>647507.63</td>\n",
              "      <td>1</td>\n",
              "      <td>0</td>\n",
              "    </tr>\n",
              "    <tr>\n",
              "      <th>6362608</th>\n",
              "      <td>742</td>\n",
              "      <td>TRANSFER</td>\n",
              "      <td>258355.42</td>\n",
              "      <td>258355.42</td>\n",
              "      <td>0.00</td>\n",
              "      <td>0.00</td>\n",
              "      <td>0.00</td>\n",
              "      <td>1</td>\n",
              "      <td>0</td>\n",
              "    </tr>\n",
              "    <tr>\n",
              "      <th>6362609</th>\n",
              "      <td>742</td>\n",
              "      <td>CASH_OUT</td>\n",
              "      <td>258355.42</td>\n",
              "      <td>258355.42</td>\n",
              "      <td>0.00</td>\n",
              "      <td>25176.67</td>\n",
              "      <td>283532.09</td>\n",
              "      <td>1</td>\n",
              "      <td>0</td>\n",
              "    </tr>\n",
              "    <tr>\n",
              "      <th>6362610</th>\n",
              "      <td>742</td>\n",
              "      <td>TRANSFER</td>\n",
              "      <td>63416.99</td>\n",
              "      <td>63416.99</td>\n",
              "      <td>0.00</td>\n",
              "      <td>0.00</td>\n",
              "      <td>0.00</td>\n",
              "      <td>1</td>\n",
              "      <td>0</td>\n",
              "    </tr>\n",
              "    <tr>\n",
              "      <th>6362611</th>\n",
              "      <td>742</td>\n",
              "      <td>CASH_OUT</td>\n",
              "      <td>63416.99</td>\n",
              "      <td>63416.99</td>\n",
              "      <td>0.00</td>\n",
              "      <td>276433.18</td>\n",
              "      <td>339850.17</td>\n",
              "      <td>1</td>\n",
              "      <td>0</td>\n",
              "    </tr>\n",
              "    <tr>\n",
              "      <th>6362612</th>\n",
              "      <td>743</td>\n",
              "      <td>TRANSFER</td>\n",
              "      <td>1258818.82</td>\n",
              "      <td>1258818.82</td>\n",
              "      <td>0.00</td>\n",
              "      <td>0.00</td>\n",
              "      <td>0.00</td>\n",
              "      <td>1</td>\n",
              "      <td>0</td>\n",
              "    </tr>\n",
              "    <tr>\n",
              "      <th>6362613</th>\n",
              "      <td>743</td>\n",
              "      <td>CASH_OUT</td>\n",
              "      <td>1258818.82</td>\n",
              "      <td>1258818.82</td>\n",
              "      <td>0.00</td>\n",
              "      <td>503464.50</td>\n",
              "      <td>1762283.33</td>\n",
              "      <td>1</td>\n",
              "      <td>0</td>\n",
              "    </tr>\n",
              "    <tr>\n",
              "      <th>6362614</th>\n",
              "      <td>743</td>\n",
              "      <td>TRANSFER</td>\n",
              "      <td>339682.13</td>\n",
              "      <td>339682.13</td>\n",
              "      <td>0.00</td>\n",
              "      <td>0.00</td>\n",
              "      <td>0.00</td>\n",
              "      <td>1</td>\n",
              "      <td>0</td>\n",
              "    </tr>\n",
              "    <tr>\n",
              "      <th>6362615</th>\n",
              "      <td>743</td>\n",
              "      <td>CASH_OUT</td>\n",
              "      <td>339682.13</td>\n",
              "      <td>339682.13</td>\n",
              "      <td>0.00</td>\n",
              "      <td>0.00</td>\n",
              "      <td>339682.13</td>\n",
              "      <td>1</td>\n",
              "      <td>0</td>\n",
              "    </tr>\n",
              "    <tr>\n",
              "      <th>6362616</th>\n",
              "      <td>743</td>\n",
              "      <td>TRANSFER</td>\n",
              "      <td>6311409.28</td>\n",
              "      <td>6311409.28</td>\n",
              "      <td>0.00</td>\n",
              "      <td>0.00</td>\n",
              "      <td>0.00</td>\n",
              "      <td>1</td>\n",
              "      <td>0</td>\n",
              "    </tr>\n",
              "    <tr>\n",
              "      <th>6362617</th>\n",
              "      <td>743</td>\n",
              "      <td>CASH_OUT</td>\n",
              "      <td>6311409.28</td>\n",
              "      <td>6311409.28</td>\n",
              "      <td>0.00</td>\n",
              "      <td>68488.84</td>\n",
              "      <td>6379898.11</td>\n",
              "      <td>1</td>\n",
              "      <td>0</td>\n",
              "    </tr>\n",
              "    <tr>\n",
              "      <th>6362618</th>\n",
              "      <td>743</td>\n",
              "      <td>TRANSFER</td>\n",
              "      <td>850002.52</td>\n",
              "      <td>850002.52</td>\n",
              "      <td>0.00</td>\n",
              "      <td>0.00</td>\n",
              "      <td>0.00</td>\n",
              "      <td>1</td>\n",
              "      <td>0</td>\n",
              "    </tr>\n",
              "    <tr>\n",
              "      <th>6362619</th>\n",
              "      <td>743</td>\n",
              "      <td>CASH_OUT</td>\n",
              "      <td>850002.52</td>\n",
              "      <td>850002.52</td>\n",
              "      <td>0.00</td>\n",
              "      <td>6510099.11</td>\n",
              "      <td>7360101.63</td>\n",
              "      <td>1</td>\n",
              "      <td>0</td>\n",
              "    </tr>\n",
              "  </tbody>\n",
              "</table>\n",
              "<p>6362620 rows × 9 columns</p>\n",
              "</div>"
            ],
            "text/plain": [
              "         step      type      amount  ...  newbalanceDest  isFraud  isFlaggedFraud\n",
              "0           1   PAYMENT     9839.64  ...            0.00        0               0\n",
              "1           1   PAYMENT     1864.28  ...            0.00        0               0\n",
              "2           1  TRANSFER      181.00  ...            0.00        1               0\n",
              "3           1  CASH_OUT      181.00  ...            0.00        1               0\n",
              "4           1   PAYMENT    11668.14  ...            0.00        0               0\n",
              "5           1   PAYMENT     7817.71  ...            0.00        0               0\n",
              "6           1   PAYMENT     7107.77  ...            0.00        0               0\n",
              "7           1   PAYMENT     7861.64  ...            0.00        0               0\n",
              "8           1   PAYMENT     4024.36  ...            0.00        0               0\n",
              "9           1     DEBIT     5337.77  ...        40348.79        0               0\n",
              "10          1     DEBIT     9644.94  ...       157982.12        0               0\n",
              "11          1   PAYMENT     3099.97  ...            0.00        0               0\n",
              "12          1   PAYMENT     2560.74  ...            0.00        0               0\n",
              "13          1   PAYMENT    11633.76  ...            0.00        0               0\n",
              "14          1   PAYMENT     4098.78  ...            0.00        0               0\n",
              "15          1  CASH_OUT   229133.94  ...        51513.44        0               0\n",
              "16          1   PAYMENT     1563.82  ...            0.00        0               0\n",
              "17          1   PAYMENT     1157.86  ...            0.00        0               0\n",
              "18          1   PAYMENT      671.64  ...            0.00        0               0\n",
              "19          1  TRANSFER   215310.30  ...            0.00        0               0\n",
              "20          1   PAYMENT     1373.43  ...            0.00        0               0\n",
              "21          1     DEBIT     9302.79  ...        16896.70        0               0\n",
              "22          1     DEBIT     1065.41  ...            0.00        0               0\n",
              "23          1   PAYMENT     3876.41  ...            0.00        0               0\n",
              "24          1  TRANSFER   311685.89  ...      2719172.89        0               0\n",
              "25          1   PAYMENT     6061.13  ...            0.00        0               0\n",
              "26          1   PAYMENT     9478.39  ...            0.00        0               0\n",
              "27          1   PAYMENT     8009.09  ...            0.00        0               0\n",
              "28          1   PAYMENT     8901.99  ...            0.00        0               0\n",
              "29          1   PAYMENT     9920.52  ...            0.00        0               0\n",
              "...       ...       ...         ...  ...             ...      ...             ...\n",
              "6362590   741  TRANSFER   323726.61  ...            0.00        1               0\n",
              "6362591   741  CASH_OUT   323726.61  ...       885480.19        1               0\n",
              "6362592   741  TRANSFER   383661.10  ...            0.00        1               0\n",
              "6362593   741  CASH_OUT   383661.10  ...      2171773.80        1               0\n",
              "6362594   741  TRANSFER   144945.34  ...            0.00        1               0\n",
              "6362595   741  CASH_OUT   144945.34  ...       144945.34        1               0\n",
              "6362596   741  TRANSFER    48442.88  ...            0.00        1               0\n",
              "6362597   741  CASH_OUT    48442.88  ...       562189.07        1               0\n",
              "6362598   742  TRANSFER  4009058.39  ...            0.00        1               0\n",
              "6362599   742  CASH_OUT  4009058.39  ...      5238820.34        1               0\n",
              "6362600   742  TRANSFER   652993.91  ...            0.00        1               0\n",
              "6362601   742  CASH_OUT   652993.91  ...       652993.91        1               0\n",
              "6362602   742  TRANSFER  1819543.69  ...            0.00        1               0\n",
              "6362603   742  CASH_OUT  1819543.69  ...      1819543.69        1               0\n",
              "6362604   742  TRANSFER    54652.46  ...            0.00        1               0\n",
              "6362605   742  CASH_OUT    54652.46  ...        54652.46        1               0\n",
              "6362606   742  TRANSFER   303846.74  ...            0.00        1               0\n",
              "6362607   742  CASH_OUT   303846.74  ...       647507.63        1               0\n",
              "6362608   742  TRANSFER   258355.42  ...            0.00        1               0\n",
              "6362609   742  CASH_OUT   258355.42  ...       283532.09        1               0\n",
              "6362610   742  TRANSFER    63416.99  ...            0.00        1               0\n",
              "6362611   742  CASH_OUT    63416.99  ...       339850.17        1               0\n",
              "6362612   743  TRANSFER  1258818.82  ...            0.00        1               0\n",
              "6362613   743  CASH_OUT  1258818.82  ...      1762283.33        1               0\n",
              "6362614   743  TRANSFER   339682.13  ...            0.00        1               0\n",
              "6362615   743  CASH_OUT   339682.13  ...       339682.13        1               0\n",
              "6362616   743  TRANSFER  6311409.28  ...            0.00        1               0\n",
              "6362617   743  CASH_OUT  6311409.28  ...      6379898.11        1               0\n",
              "6362618   743  TRANSFER   850002.52  ...            0.00        1               0\n",
              "6362619   743  CASH_OUT   850002.52  ...      7360101.63        1               0\n",
              "\n",
              "[6362620 rows x 9 columns]"
            ]
          },
          "metadata": {
            "tags": []
          },
          "execution_count": 97
        }
      ]
    },
    {
      "cell_type": "code",
      "metadata": {
        "colab": {
          "base_uri": "https://localhost:8080/"
        },
        "id": "I5M94sY4TtQZ",
        "outputId": "eae8cb58-82f1-4078-f081-544ae2f5ed61"
      },
      "source": [
        "file['type'].unique()"
      ],
      "execution_count": null,
      "outputs": [
        {
          "output_type": "execute_result",
          "data": {
            "text/plain": [
              "array(['PAYMENT', 'TRANSFER', 'CASH_OUT', 'DEBIT', 'CASH_IN'],\n",
              "      dtype=object)"
            ]
          },
          "metadata": {
            "tags": []
          },
          "execution_count": 98
        }
      ]
    },
    {
      "cell_type": "markdown",
      "metadata": {
        "id": "Dq0Xce-zZj5x"
      },
      "source": [
        "Mmeriksa apasaja isi dari variabel'type'"
      ]
    },
    {
      "cell_type": "markdown",
      "metadata": {
        "id": "RcSzehPIMPkX"
      },
      "source": [
        "#A. Analisis statistik deskriptif dari sejumlah variabel dengan datasets yang dapat didownload melalui link di bawah. Bagaimana pengaruh distribusi data dan imbalance data antara fraud dan non-fraud?\n",
        "**Analisis Statistik Deskriptif : adalah analisis yang dilakukan untuk menilai karakteristik dari sebuah data.**\n"
      ]
    },
    {
      "cell_type": "code",
      "metadata": {
        "colab": {
          "base_uri": "https://localhost:8080/"
        },
        "id": "QP5AvWIoMhVf",
        "outputId": "fe8859ba-e907-42c8-9d2e-1404027bf5f8"
      },
      "source": [
        "file.isnull().sum()"
      ],
      "execution_count": null,
      "outputs": [
        {
          "output_type": "execute_result",
          "data": {
            "text/plain": [
              "step              0\n",
              "type              0\n",
              "amount            0\n",
              "oldbalanceOrg     0\n",
              "newbalanceOrig    0\n",
              "oldbalanceDest    0\n",
              "newbalanceDest    0\n",
              "isFraud           0\n",
              "isFlaggedFraud    0\n",
              "dtype: int64"
            ]
          },
          "metadata": {
            "tags": []
          },
          "execution_count": 99
        }
      ]
    },
    {
      "cell_type": "markdown",
      "metadata": {
        "id": "_oC995fDVHyV"
      },
      "source": [
        "Tidak ditemukan adanya non-null value"
      ]
    },
    {
      "cell_type": "code",
      "metadata": {
        "colab": {
          "base_uri": "https://localhost:8080/"
        },
        "id": "xIKZGJPGf1oC",
        "outputId": "66148f69-6c21-4853-c9e6-ce324b09ba1f"
      },
      "source": [
        "file['isFraud'].value_counts()"
      ],
      "execution_count": null,
      "outputs": [
        {
          "output_type": "execute_result",
          "data": {
            "text/plain": [
              "0    6354407\n",
              "1       8213\n",
              "Name: isFraud, dtype: int64"
            ]
          },
          "metadata": {
            "tags": []
          },
          "execution_count": 100
        }
      ]
    },
    {
      "cell_type": "markdown",
      "metadata": {
        "id": "aGeK5vQ2M2Lz"
      },
      "source": [
        "**0 = not Fraud, \n",
        "1 = Fraud\n",
        "Terlihat bahwa terdapat 8.213 penipuan dalam transaksi pembayaran**"
      ]
    },
    {
      "cell_type": "code",
      "metadata": {
        "colab": {
          "base_uri": "https://localhost:8080/",
          "height": 294
        },
        "id": "grZDqgmTOkoC",
        "outputId": "262c4f55-5aa8-40bf-d614-54c1842f9db8"
      },
      "source": [
        "file.describe()"
      ],
      "execution_count": null,
      "outputs": [
        {
          "output_type": "execute_result",
          "data": {
            "text/html": [
              "<div>\n",
              "<style scoped>\n",
              "    .dataframe tbody tr th:only-of-type {\n",
              "        vertical-align: middle;\n",
              "    }\n",
              "\n",
              "    .dataframe tbody tr th {\n",
              "        vertical-align: top;\n",
              "    }\n",
              "\n",
              "    .dataframe thead th {\n",
              "        text-align: right;\n",
              "    }\n",
              "</style>\n",
              "<table border=\"1\" class=\"dataframe\">\n",
              "  <thead>\n",
              "    <tr style=\"text-align: right;\">\n",
              "      <th></th>\n",
              "      <th>step</th>\n",
              "      <th>amount</th>\n",
              "      <th>oldbalanceOrg</th>\n",
              "      <th>newbalanceOrig</th>\n",
              "      <th>oldbalanceDest</th>\n",
              "      <th>newbalanceDest</th>\n",
              "      <th>isFraud</th>\n",
              "      <th>isFlaggedFraud</th>\n",
              "    </tr>\n",
              "  </thead>\n",
              "  <tbody>\n",
              "    <tr>\n",
              "      <th>count</th>\n",
              "      <td>6.362620e+06</td>\n",
              "      <td>6.362620e+06</td>\n",
              "      <td>6.362620e+06</td>\n",
              "      <td>6.362620e+06</td>\n",
              "      <td>6.362620e+06</td>\n",
              "      <td>6.362620e+06</td>\n",
              "      <td>6.362620e+06</td>\n",
              "      <td>6.362620e+06</td>\n",
              "    </tr>\n",
              "    <tr>\n",
              "      <th>mean</th>\n",
              "      <td>2.433972e+02</td>\n",
              "      <td>1.798619e+05</td>\n",
              "      <td>8.338831e+05</td>\n",
              "      <td>8.551137e+05</td>\n",
              "      <td>1.100702e+06</td>\n",
              "      <td>1.224996e+06</td>\n",
              "      <td>1.290820e-03</td>\n",
              "      <td>2.514687e-06</td>\n",
              "    </tr>\n",
              "    <tr>\n",
              "      <th>std</th>\n",
              "      <td>1.423320e+02</td>\n",
              "      <td>6.038582e+05</td>\n",
              "      <td>2.888243e+06</td>\n",
              "      <td>2.924049e+06</td>\n",
              "      <td>3.399180e+06</td>\n",
              "      <td>3.674129e+06</td>\n",
              "      <td>3.590480e-02</td>\n",
              "      <td>1.585775e-03</td>\n",
              "    </tr>\n",
              "    <tr>\n",
              "      <th>min</th>\n",
              "      <td>1.000000e+00</td>\n",
              "      <td>0.000000e+00</td>\n",
              "      <td>0.000000e+00</td>\n",
              "      <td>0.000000e+00</td>\n",
              "      <td>0.000000e+00</td>\n",
              "      <td>0.000000e+00</td>\n",
              "      <td>0.000000e+00</td>\n",
              "      <td>0.000000e+00</td>\n",
              "    </tr>\n",
              "    <tr>\n",
              "      <th>25%</th>\n",
              "      <td>1.560000e+02</td>\n",
              "      <td>1.338957e+04</td>\n",
              "      <td>0.000000e+00</td>\n",
              "      <td>0.000000e+00</td>\n",
              "      <td>0.000000e+00</td>\n",
              "      <td>0.000000e+00</td>\n",
              "      <td>0.000000e+00</td>\n",
              "      <td>0.000000e+00</td>\n",
              "    </tr>\n",
              "    <tr>\n",
              "      <th>50%</th>\n",
              "      <td>2.390000e+02</td>\n",
              "      <td>7.487194e+04</td>\n",
              "      <td>1.420800e+04</td>\n",
              "      <td>0.000000e+00</td>\n",
              "      <td>1.327057e+05</td>\n",
              "      <td>2.146614e+05</td>\n",
              "      <td>0.000000e+00</td>\n",
              "      <td>0.000000e+00</td>\n",
              "    </tr>\n",
              "    <tr>\n",
              "      <th>75%</th>\n",
              "      <td>3.350000e+02</td>\n",
              "      <td>2.087215e+05</td>\n",
              "      <td>1.073152e+05</td>\n",
              "      <td>1.442584e+05</td>\n",
              "      <td>9.430367e+05</td>\n",
              "      <td>1.111909e+06</td>\n",
              "      <td>0.000000e+00</td>\n",
              "      <td>0.000000e+00</td>\n",
              "    </tr>\n",
              "    <tr>\n",
              "      <th>max</th>\n",
              "      <td>7.430000e+02</td>\n",
              "      <td>9.244552e+07</td>\n",
              "      <td>5.958504e+07</td>\n",
              "      <td>4.958504e+07</td>\n",
              "      <td>3.560159e+08</td>\n",
              "      <td>3.561793e+08</td>\n",
              "      <td>1.000000e+00</td>\n",
              "      <td>1.000000e+00</td>\n",
              "    </tr>\n",
              "  </tbody>\n",
              "</table>\n",
              "</div>"
            ],
            "text/plain": [
              "               step        amount  ...       isFraud  isFlaggedFraud\n",
              "count  6.362620e+06  6.362620e+06  ...  6.362620e+06    6.362620e+06\n",
              "mean   2.433972e+02  1.798619e+05  ...  1.290820e-03    2.514687e-06\n",
              "std    1.423320e+02  6.038582e+05  ...  3.590480e-02    1.585775e-03\n",
              "min    1.000000e+00  0.000000e+00  ...  0.000000e+00    0.000000e+00\n",
              "25%    1.560000e+02  1.338957e+04  ...  0.000000e+00    0.000000e+00\n",
              "50%    2.390000e+02  7.487194e+04  ...  0.000000e+00    0.000000e+00\n",
              "75%    3.350000e+02  2.087215e+05  ...  0.000000e+00    0.000000e+00\n",
              "max    7.430000e+02  9.244552e+07  ...  1.000000e+00    1.000000e+00\n",
              "\n",
              "[8 rows x 8 columns]"
            ]
          },
          "metadata": {
            "tags": []
          },
          "execution_count": 101
        }
      ]
    },
    {
      "cell_type": "markdown",
      "metadata": {
        "id": "3QfiXpeNbJoi"
      },
      "source": [
        "Terlihat bahwa rata-rata Fraud terjadi pada 'newbalanceDest'atau 'penerima saldo baru setelah transaksi' karena mamiliki angka yang terbesar dari yang lain. Rentang Fraud terjadi antara 0 sampai 3.561793. Median variabel tersebut sebesar 2.146614  "
      ]
    },
    {
      "cell_type": "code",
      "metadata": {
        "id": "BAajneCXBFAi",
        "colab": {
          "base_uri": "https://localhost:8080/",
          "height": 358
        },
        "outputId": "bdd07414-2a54-46e0-e0d9-a4be06084480"
      },
      "source": [
        "plot_type = file.groupby(['type', 'isFraud'd\n",
        "plot_type.set_ylabel(\"Count of transaction type\")\n",
        "for p in plot_type.patches:\n",
        "    plot_type.annotate(str(format(int(p.get_height()), ',d')), (p.get_x(), p.get_height()*1.01))"
      ],
      "execution_count": null,
      "outputs": [
        {
          "output_type": "display_data",
          "data": {
            "image/png": "[encoded data removed]",
            "text/plain": [
              "<Figure size 432x288 with 1 Axes>"
            ]
          },
          "metadata": {
            "tags": [],
            "needs_background": "light"
          }
        }
      ]
    },
    {
      "cell_type": "markdown",
      "metadata": {
        "id": "u4Z3n0gOk5eT"
      },
      "source": [
        "Untuk Distribusi Data pada variabel 'Type'menggunakan Plot karena datanya berjenis objeck sehingga tidak bisa di statistikan. Tetapi karena variabel ini memiliki pengaruh maka harus diperhitungkan. \n",
        "Terlihat dari Plot bahwa selisih antara terjadinya Fraud dan Tidak terjadinya Fraud sangat jauh berbeda.\n",
        "Walaupun Fraud terjadi pada saat transaksi 'Cash Out' sebanyak 4.116 kasus tetapi 'Cash Out' juga memilki persentase tidak terjadi Fraud. Diikuti 'Payment', 'Cash in' dan 'Debit Card' yang tidak terdapat Fraud\n",
        "transaksi pada saat 'Transfer' angka tidak Fraud sebesar 528.812 transaksi\n",
        "tetapi juga banyak terjadi Fraud yaitu sebesar 4.097 kasus. biasanya terjadi karena scrammers."
      ]
    },
    {
      "cell_type": "markdown",
      "metadata": {
        "id": "nk64RUIKiUWE"
      },
      "source": [
        "Hal-hal yang dapat dilakukan untuk mencegah Fraud saat 'Cash Out': \n",
        "\n",
        "Kontrol akses yang kuat ke sistem dan identifikasi risiko pihak ketiga\n",
        "\n",
        "Otentikasi multi-faktor\n",
        "\n",
        "Manajemen kata sandi yang kuat\n",
        "\n",
        "Pengujian penetrasi secara regular\n",
        "\n",
        "Pemasangan software pemantauan integritas file yang juga dapat berfungsi sebagai mekanisme pendeteksian"
      ]
    },
    {
      "cell_type": "markdown",
      "metadata": {
        "id": "_F9SNM-0jKti"
      },
      "source": [
        "Sedangkan hal-hal yang dapat dilakukan untuk mencegah Fraud saat transaksi ' Transfer' :\n",
        "\n",
        "Hindari mengirim uang kepada seseorang yang belum pernah ditemui secara langsung. Jika merasa harus mengirim uang, cobalah untuk tidak mengirim uang dalam jumlah besar sekaligus.\n",
        "\n",
        "Gunakan layanan transfer uang yang tepercaya dan aman. Meskipun sebagian besar penyedia transfer uang bukanlah masalahnya, sebaiknya pilih layanan yang memperhatikan keamanan dengan serius."
      ]
    },
    {
      "cell_type": "markdown",
      "metadata": {
        "id": "S4PKXcT6O214"
      },
      "source": [
        "#B. Dengan menggunakan 70% dataset sebagai data train dan sisanya 30% sebagai data test, bagaimana hasil prediksi dengan model Logistic Regression dan Random Forest?\n"
      ]
    },
    {
      "cell_type": "markdown",
      "metadata": {
        "id": "HLEvG7v6O9Mu"
      },
      "source": [
        "##Model Random Forest"
      ]
    },
    {
      "cell_type": "code",
      "metadata": {
        "id": "hTt_7U9XVLMa"
      },
      "source": [
        "from sklearn.ensemble import RandomForestClassifier\n",
        "from sklearn.model_selection import train_test_split\n",
        "from sklearn.metrics import classification_report, accuracy_score"
      ],
      "execution_count": null,
      "outputs": []
    },
    {
      "cell_type": "code",
      "metadata": {
        "id": "TC1f_Fl7R1c1"
      },
      "source": [
        "#creating a new dataframe \n",
        "file1 = file.copy()"
      ],
      "execution_count": null,
      "outputs": []
    },
    {
      "cell_type": "code",
      "metadata": {
        "id": "6URibaw_R7MB"
      },
      "source": [
        "#type are categorical columns:\n",
        "from sklearn.preprocessing import LabelEncoder\n",
        "type1=LabelEncoder()\n",
        "file1['type']= type1.fit_transform(file1['type'])"
      ],
      "execution_count": null,
      "outputs": []
    },
    {
      "cell_type": "code",
      "metadata": {
        "colab": {
          "base_uri": "https://localhost:8080/"
        },
        "id": "5ZVc_d-RUt2M",
        "outputId": "711f7340-0fbb-4306-f07f-d1a600792045"
      },
      "source": [
        "file1['type']"
      ],
      "execution_count": null,
      "outputs": [
        {
          "output_type": "execute_result",
          "data": {
            "text/plain": [
              "0          3\n",
              "1          3\n",
              "2          4\n",
              "3          1\n",
              "4          3\n",
              "5          3\n",
              "6          3\n",
              "7          3\n",
              "8          3\n",
              "9          2\n",
              "10         2\n",
              "11         3\n",
              "12         3\n",
              "13         3\n",
              "14         3\n",
              "15         1\n",
              "16         3\n",
              "17         3\n",
              "18         3\n",
              "19         4\n",
              "20         3\n",
              "21         2\n",
              "22         2\n",
              "23         3\n",
              "24         4\n",
              "25         3\n",
              "26         3\n",
              "27         3\n",
              "28         3\n",
              "29         3\n",
              "          ..\n",
              "6362590    4\n",
              "6362591    1\n",
              "6362592    4\n",
              "6362593    1\n",
              "6362594    4\n",
              "6362595    1\n",
              "6362596    4\n",
              "6362597    1\n",
              "6362598    4\n",
              "6362599    1\n",
              "6362600    4\n",
              "6362601    1\n",
              "6362602    4\n",
              "6362603    1\n",
              "6362604    4\n",
              "6362605    1\n",
              "6362606    4\n",
              "6362607    1\n",
              "6362608    4\n",
              "6362609    1\n",
              "6362610    4\n",
              "6362611    1\n",
              "6362612    4\n",
              "6362613    1\n",
              "6362614    4\n",
              "6362615    1\n",
              "6362616    4\n",
              "6362617    1\n",
              "6362618    4\n",
              "6362619    1\n",
              "Name: type, Length: 6362620, dtype: int64"
            ]
          },
          "metadata": {
            "tags": []
          },
          "execution_count": 106
        }
      ]
    },
    {
      "cell_type": "code",
      "metadata": {
        "id": "G-t2CmyRO7xb"
      },
      "source": [
        "y = file1['isFraud']\n",
        "X = file1.drop(['isFraud'],axis=1)"
      ],
      "execution_count": null,
      "outputs": []
    },
    {
      "cell_type": "code",
      "metadata": {
        "colab": {
          "base_uri": "https://localhost:8080/"
        },
        "id": "r6j14oQEPSlt",
        "outputId": "71655f82-4081-4319-806e-f4588a89e8f4"
      },
      "source": [
        "rfc = RandomForestClassifier() #using default values\n",
        "X_train, X_test, y_train, y_test = train_test_split(X, y, test_size=0.3, random_state=42) #70% training and 30% testing\n",
        "#training our model\n",
        "model = rfc.fit(X_train,y_train)\n",
        "#predicting our labels\n",
        "predictions = model.predict(X_test)"
      ],
      "execution_count": null,
      "outputs": [
        {
          "output_type": "stream",
          "text": [
            "/usr/local/lib/python3.7/dist-packages/sklearn/ensemble/forest.py:245: FutureWarning: The default value of n_estimators will change from 10 in version 0.20 to 100 in 0.22.\n",
            "  \"10 in version 0.20 to 100 in 0.22.\", FutureWarning)\n"
          ],
          "name": "stderr"
        }
      ]
    },
    {
      "cell_type": "code",
      "metadata": {
        "colab": {
          "base_uri": "https://localhost:8080/"
        },
        "id": "wt_-Ok0WVJJf",
        "outputId": "75101d10-6286-45dd-ac9b-1f2febaa5c21"
      },
      "source": [
        "print(classification_report(y_test,predictions))\n",
        "accuracy_score(y_test,predictions)"
      ],
      "execution_count": null,
      "outputs": [
        {
          "output_type": "stream",
          "text": [
            "              precision    recall  f1-score   support\n",
            "\n",
            "           0       1.00      1.00      1.00   1906351\n",
            "           1       0.98      0.77      0.86      2435\n",
            "\n",
            "    accuracy                           1.00   1908786\n",
            "   macro avg       0.99      0.89      0.93   1908786\n",
            "weighted avg       1.00      1.00      1.00   1908786\n",
            "\n"
          ],
          "name": "stdout"
        },
        {
          "output_type": "execute_result",
          "data": {
            "text/plain": [
              "0.9996861879749747"
            ]
          },
          "metadata": {
            "tags": []
          },
          "execution_count": 109
        }
      ]
    },
    {
      "cell_type": "markdown",
      "metadata": {
        "id": "JREne-jvk9vA"
      },
      "source": [
        "Dengan menggunakan Model Random Forest, mendapatkan tingkat Akurasi perhitungan Fraud sebesar 0,9996"
      ]
    },
    {
      "cell_type": "markdown",
      "metadata": {
        "id": "O6INgLZ_hTld"
      },
      "source": [
        "##Model Logistic Regression"
      ]
    },
    {
      "cell_type": "code",
      "metadata": {
        "id": "LGnk22pDhoca"
      },
      "source": [
        "from sklearn.linear_model import LogisticRegression\n",
        "from sklearn.model_selection import train_test_split\n",
        "from sklearn.metrics import classification_report, accuracy_score"
      ],
      "execution_count": null,
      "outputs": []
    },
    {
      "cell_type": "code",
      "metadata": {
        "id": "iOCPcvqeiPlJ"
      },
      "source": [
        "#creating a new dataframe \n",
        "file2 = file.copy()"
      ],
      "execution_count": null,
      "outputs": []
    },
    {
      "cell_type": "code",
      "metadata": {
        "id": "g-S-wWF5iVvv"
      },
      "source": [
        "#type are categorical columns:\n",
        "from sklearn.preprocessing import LabelEncoder\n",
        "type1=LabelEncoder()\n",
        "file2['type']= type1.fit_transform(file2['type'])"
      ],
      "execution_count": null,
      "outputs": []
    },
    {
      "cell_type": "code",
      "metadata": {
        "colab": {
          "base_uri": "https://localhost:8080/"
        },
        "id": "RSQale84iY-W",
        "outputId": "e7b35304-9692-4773-bb18-25a7d0b9ea22"
      },
      "source": [
        "file2['type']"
      ],
      "execution_count": null,
      "outputs": [
        {
          "output_type": "execute_result",
          "data": {
            "text/plain": [
              "0          3\n",
              "1          3\n",
              "2          4\n",
              "3          1\n",
              "4          3\n",
              "5          3\n",
              "6          3\n",
              "7          3\n",
              "8          3\n",
              "9          2\n",
              "10         2\n",
              "11         3\n",
              "12         3\n",
              "13         3\n",
              "14         3\n",
              "15         1\n",
              "16         3\n",
              "17         3\n",
              "18         3\n",
              "19         4\n",
              "20         3\n",
              "21         2\n",
              "22         2\n",
              "23         3\n",
              "24         4\n",
              "25         3\n",
              "26         3\n",
              "27         3\n",
              "28         3\n",
              "29         3\n",
              "          ..\n",
              "6362590    4\n",
              "6362591    1\n",
              "6362592    4\n",
              "6362593    1\n",
              "6362594    4\n",
              "6362595    1\n",
              "6362596    4\n",
              "6362597    1\n",
              "6362598    4\n",
              "6362599    1\n",
              "6362600    4\n",
              "6362601    1\n",
              "6362602    4\n",
              "6362603    1\n",
              "6362604    4\n",
              "6362605    1\n",
              "6362606    4\n",
              "6362607    1\n",
              "6362608    4\n",
              "6362609    1\n",
              "6362610    4\n",
              "6362611    1\n",
              "6362612    4\n",
              "6362613    1\n",
              "6362614    4\n",
              "6362615    1\n",
              "6362616    4\n",
              "6362617    1\n",
              "6362618    4\n",
              "6362619    1\n",
              "Name: type, Length: 6362620, dtype: int64"
            ]
          },
          "metadata": {
            "tags": []
          },
          "execution_count": 113
        }
      ]
    },
    {
      "cell_type": "code",
      "metadata": {
        "id": "1vTXlI0gigwz"
      },
      "source": [
        "y = file1['isFraud']\n",
        "X = file1.drop(['isFraud'],axis=1)"
      ],
      "execution_count": null,
      "outputs": []
    },
    {
      "cell_type": "code",
      "metadata": {
        "colab": {
          "base_uri": "https://localhost:8080/"
        },
        "id": "Lzw1cNL0ik14",
        "outputId": "4093c1c9-cb73-4088-966e-2c71a6134536"
      },
      "source": [
        "LR = LogisticRegression() #using default values\n",
        "X_train, X_test, y_train, y_test = train_test_split(X, y, test_size=0.3, random_state=42) #70% training and 30% testing\n",
        "#training our model\n",
        "model_LR = LR.fit(X_train,y_train)\n",
        "#predicting our labels\n",
        "predict_LR = model_LR.predict(X_test)"
      ],
      "execution_count": null,
      "outputs": [
        {
          "output_type": "stream",
          "text": [
            "/usr/local/lib/python3.7/dist-packages/sklearn/linear_model/logistic.py:432: FutureWarning: Default solver will be changed to 'lbfgs' in 0.22. Specify a solver to silence this warning.\n",
            "  FutureWarning)\n",
            "/usr/local/lib/python3.7/dist-packages/sklearn/svm/base.py:929: ConvergenceWarning: Liblinear failed to converge, increase the number of iterations.\n",
            "  \"the number of iterations.\", ConvergenceWarning)\n"
          ],
          "name": "stderr"
        }
      ]
    },
    {
      "cell_type": "code",
      "metadata": {
        "colab": {
          "base_uri": "https://localhost:8080/"
        },
        "id": "KW-fv18ajHok",
        "outputId": "c8d9b0d9-0c71-4565-dcd5-2a7fa675b9ee"
      },
      "source": [
        "print(classification_report(y_test,predict_LR))\n",
        "accuracy_score(y_test,predict_LR)"
      ],
      "execution_count": null,
      "outputs": [
        {
          "output_type": "stream",
          "text": [
            "              precision    recall  f1-score   support\n",
            "\n",
            "           0       1.00      1.00      1.00   1906351\n",
            "           1       0.78      0.67      0.72      2435\n",
            "\n",
            "    accuracy                           1.00   1908786\n",
            "   macro avg       0.89      0.84      0.86   1908786\n",
            "weighted avg       1.00      1.00      1.00   1908786\n",
            "\n"
          ],
          "name": "stdout"
        },
        {
          "output_type": "execute_result",
          "data": {
            "text/plain": [
              "0.9993346556397626"
            ]
          },
          "metadata": {
            "tags": []
          },
          "execution_count": 116
        }
      ]
    },
    {
      "cell_type": "markdown",
      "metadata": {
        "id": "7Ep0uQEQlAED"
      },
      "source": [
        "Dengan menggunakan Model Logistic Regression, mendapatkan tingkat Akurasi perhitungan Fraud sebesar 0,9993"
      ]
    },
    {
      "cell_type": "markdown",
      "metadata": {
        "id": "XIsrqljigKYC"
      },
      "source": [
        "#C. Berapa presisi kedua model berdasarkan Test Confusion Matrix? Model mana yang Saudara rekomendasikan? Jelaskan!"
      ]
    },
    {
      "cell_type": "markdown",
      "metadata": {
        "id": "Zzh_qfqyhh_y"
      },
      "source": [
        "##Precision dari Model Random Forest"
      ]
    },
    {
      "cell_type": "code",
      "metadata": {
        "colab": {
          "base_uri": "https://localhost:8080/",
          "height": 328
        },
        "id": "frXy-qwCezsS",
        "outputId": "1f0910cb-70ea-49b3-fa18-52d26d3b0f78"
      },
      "source": [
        "from sklearn.metrics import confusion_matrix\n",
        "confusion_matrix = confusion_matrix(y_test, predictions)\n",
        "print(confusion_matrix)\n",
        "sns.heatmap(confusion_matrix, annot=True, cmap=\"Pastel1\")"
      ],
      "execution_count": null,
      "outputs": [
        {
          "output_type": "stream",
          "text": [
            "[[1906309      42]\n",
            " [    557    1878]]\n"
          ],
          "name": "stdout"
        },
        {
          "output_type": "execute_result",
          "data": {
            "text/plain": [
              "<matplotlib.axes._subplots.AxesSubplot at 0x7ff0ca7d1350>"
            ]
          },
          "metadata": {
            "tags": []
          },
          "execution_count": 117
        },
        {
          "output_type": "display_data",
          "data": {
            "image/png": "[encoded data removed]",
            "text/plain": [
              "<Figure size 432x288 with 2 Axes>"
            ]
          },
          "metadata": {
            "tags": [],
            "needs_background": "light"
          }
        }
      ]
    },
    {
      "cell_type": "code",
      "metadata": {
        "colab": {
          "base_uri": "https://localhost:8080/"
        },
        "id": "mj1hsPjxcYPc",
        "outputId": "26b85da0-68a5-4d58-a4b6-71e1b25d7e26"
      },
      "source": [
        "from sklearn.metrics import precision_score\n",
        "precision = precision_score(y_test, predictions, average='binary')\n",
        "precision"
      ],
      "execution_count": null,
      "outputs": [
        {
          "output_type": "execute_result",
          "data": {
            "text/plain": [
              "0.978125"
            ]
          },
          "metadata": {
            "tags": []
          },
          "execution_count": 118
        }
      ]
    },
    {
      "cell_type": "markdown",
      "metadata": {
        "id": "0hM33EjEpBu8"
      },
      "source": [
        "True Positive (TP): kita memprediksi Fraud sebesar 1878 dan memang benar terjadi\n",
        "\n",
        "True Negative (TN): kita memprediksi Fraud tidak terjadi sebesar 1.906.309 dan memang benar tidak terjadi.\n",
        "\n",
        "False Positive (FP):kita memprediksi Fraud terjadi sebesar 557 dan ternyata prediksi salah, ternyata tidak terjadi\n",
        "\n",
        "False Negative (FN) : kita memprediksi Fraud tidak terjadi 42 kasus dan ternyata prediksi salah, ternyata kasus fraud terjadi. \n",
        "\n",
        "Seperti telah dijelaskan di atas bahwa FN merupakan kesalahan tipe 2 dimana kesalahan ini sangat berbahaya. Contoh : Fraud di prediksi negatif terjadi padahal ternyata fraud positif terjadi maka fraud tersebut terlambat diketahui keadaan sebenarnya sehingga tidak segera dilakukan tindakan pencegahan . Dimana fraud tersebut dapat mengakibatkan kerugian bagi perusaahn atau individual."
      ]
    },
    {
      "cell_type": "markdown",
      "metadata": {
        "id": "VtaRKokbr6Ww"
      },
      "source": [
        "Precision menggambarkan akurasi antara data yang diminta dengan hasil prediksi yang diberikan oleh model. \n",
        "\n",
        "Diperoleh bahwa dengan menggunakan model Random Forest tingkat precision sebesar 0,97"
      ]
    },
    {
      "cell_type": "code",
      "metadata": {
        "id": "k1OfxYWmhLqR"
      },
      "source": [
        ""
      ],
      "execution_count": null,
      "outputs": []
    },
    {
      "cell_type": "markdown",
      "metadata": {
        "id": "cqrm-vt5japy"
      },
      "source": [
        "##Precision dari Model Logistic Regression"
      ]
    },
    {
      "cell_type": "code",
      "metadata": {
        "colab": {
          "base_uri": "https://localhost:8080/",
          "height": 328
        },
        "id": "YrQfQK34jhpf",
        "outputId": "71e09205-f8d4-4677-f6b0-a06e2e7d669a"
      },
      "source": [
        "from sklearn.metrics import confusion_matrix\n",
        "confusion_matrix = confusion_matrix(y_test, predict_LR)\n",
        "print(confusion_matrix)\n",
        "sns.heatmap(confusion_matrix, annot=True, cmap=\"Pastel2\")"
      ],
      "execution_count": null,
      "outputs": [
        {
          "output_type": "stream",
          "text": [
            "[[1905881     470]\n",
            " [    800    1635]]\n"
          ],
          "name": "stdout"
        },
        {
          "output_type": "execute_result",
          "data": {
            "text/plain": [
              "<matplotlib.axes._subplots.AxesSubplot at 0x7ff0d4d17c90>"
            ]
          },
          "metadata": {
            "tags": []
          },
          "execution_count": 119
        },
        {
          "output_type": "display_data",
          "data": {
            "image/png": "[encoded data removed]",
            "text/plain": [
              "<Figure size 432x288 with 2 Axes>"
            ]
          },
          "metadata": {
            "tags": [],
            "needs_background": "light"
          }
        }
      ]
    },
    {
      "cell_type": "code",
      "metadata": {
        "colab": {
          "base_uri": "https://localhost:8080/"
        },
        "id": "8qJi1kpLjlaV",
        "outputId": "a56b2024-28e4-430d-c1aa-4ba104c06c20"
      },
      "source": [
        "from sklearn.metrics import precision_score\n",
        "precision = precision_score(y_test, predict_LR, average='binary')\n",
        "precision"
      ],
      "execution_count": null,
      "outputs": [
        {
          "output_type": "execute_result",
          "data": {
            "text/plain": [
              "0.7767220902612827"
            ]
          },
          "metadata": {
            "tags": []
          },
          "execution_count": 120
        }
      ]
    },
    {
      "cell_type": "markdown",
      "metadata": {
        "id": "1dVSn9ztpEQy"
      },
      "source": [
        "True Positive (TP): kita memprediksi Fraud sebesar 1635 dan memang benar terjadi\n",
        "\n",
        "True Negative (TN): kita memprediksi Fraud tidak terjadi sebesar 1.905.881 dan memang benar tidak terjadi.\n",
        "\n",
        "False Positive (FP):kita memprediksi Fraud terjadi sebesar 800 dan ternyata prediksi salah, ternyata tidak terjadi\n",
        "\n",
        "False Negative (FN) : kita memprediksi Fraud tidak terjadi 470 kasus dan ternyata prediksi salah, ternyata kasus fraud terjadi. \n",
        "\n",
        "Seperti telah dijelaskan di atas bahwa FN merupakan kesalahan tipe 2 dimana kesalahan ini sangat berbahaya. Contoh : Fraud di prediksi negatif terjadi padahal ternyata fraud positif terjadi maka fraud tersebut terlambat diketahui keadaan sebenarnya sehingga tidak segera dilakukan tindakan pencegahan . Dimana fraud tersebut dapat mengakibatkan kerugian bagi perusaahn atau individual."
      ]
    },
    {
      "cell_type": "markdown",
      "metadata": {
        "id": "eegPRZR3sOTS"
      },
      "source": [
        "Precision menggambarkan akurasi antara data yang diminta dengan hasil prediksi yang diberikan oleh model. \n",
        "\n",
        "Diperoleh bahwa dengan menggunakan model Random Forest tingkat precision sebesar 0,77"
      ]
    },
    {
      "cell_type": "markdown",
      "metadata": {
        "id": "t0gD5FvZpOai"
      },
      "source": [
        "**Model prediksi yang paling mendekati menggunakan Model Random Forest dengan tingkat akurasi 0,9998 dan tingkat precision 0,97**\n",
        "\n",
        "Random forest is a flexible\n",
        "\n",
        "easy to use machine learning algorithm that produces\n",
        "\n",
        "simplicity and diversity\n",
        "\n",
        "versatility\n",
        "\n",
        "produce a good prediction result"
      ]
    },
    {
      "cell_type": "code",
      "metadata": {
        "id": "RRl7Ps99jq30"
      },
      "source": [
        ""
      ],
      "execution_count": null,
      "outputs": []
    },
    {
      "cell_type": "markdown",
      "metadata": {
        "id": "Vnbt30Wij-nC"
      },
      "source": [
        "#D. Hitung berapa besar Area-Under-Curve (AUC) dan Receiver-Operator Characteristics (ROC) untuk model tersebut?"
      ]
    },
    {
      "cell_type": "code",
      "metadata": {
        "id": "bqa82GKG9gVe"
      },
      "source": [
        "y = file1['isFraud']\n",
        "X = file1.drop(['isFraud'],axis=1)"
      ],
      "execution_count": null,
      "outputs": []
    },
    {
      "cell_type": "code",
      "metadata": {
        "id": "GGT91qQW9jeC"
      },
      "source": [
        "X_train, X_test, y_train, y_test = train_test_split(X, y, test_size=0.3, random_state=42) #70% training and 30% testing"
      ],
      "execution_count": null,
      "outputs": []
    },
    {
      "cell_type": "code",
      "metadata": {
        "id": "aUk8yLbH9okE"
      },
      "source": [
        "clf1 = LogisticRegression()\n",
        "clf2 = RandomForestClassifier()"
      ],
      "execution_count": null,
      "outputs": []
    },
    {
      "cell_type": "code",
      "metadata": {
        "colab": {
          "base_uri": "https://localhost:8080/"
        },
        "id": "rYhWyWsE9s6y",
        "outputId": "7b7094b1-022a-4e0c-ae56-63ed858062c5"
      },
      "source": [
        "probas1_ = clf1.fit(X_train, y_train).predict_proba(X_test)"
      ],
      "execution_count": null,
      "outputs": [
        {
          "output_type": "stream",
          "text": [
            "/usr/local/lib/python3.7/dist-packages/sklearn/linear_model/logistic.py:432: FutureWarning: Default solver will be changed to 'lbfgs' in 0.22. Specify a solver to silence this warning.\n",
            "  FutureWarning)\n",
            "/usr/local/lib/python3.7/dist-packages/sklearn/svm/base.py:929: ConvergenceWarning: Liblinear failed to converge, increase the number of iterations.\n",
            "  \"the number of iterations.\", ConvergenceWarning)\n"
          ],
          "name": "stderr"
        }
      ]
    },
    {
      "cell_type": "code",
      "metadata": {
        "colab": {
          "base_uri": "https://localhost:8080/"
        },
        "id": "rsWurvSL9xfy",
        "outputId": "02315b80-6982-448f-c064-364e06acfb11"
      },
      "source": [
        "probas2_ = clf2.fit(X_train, y_train).predict_proba(X_test)"
      ],
      "execution_count": null,
      "outputs": [
        {
          "output_type": "stream",
          "text": [
            "/usr/local/lib/python3.7/dist-packages/sklearn/ensemble/forest.py:245: FutureWarning: The default value of n_estimators will change from 10 in version 0.20 to 100 in 0.22.\n",
            "  \"10 in version 0.20 to 100 in 0.22.\", FutureWarning)\n"
          ],
          "name": "stderr"
        }
      ]
    },
    {
      "cell_type": "code",
      "metadata": {
        "id": "E5aajSL092TK"
      },
      "source": [
        "from sklearn.metrics import roc_curve, auc\n",
        "fp1, tp1, thresholds1 = roc_curve(y_test, probas1_[:, 1])\n",
        "roc_auc_model1 = auc(fp1, tp1)\n",
        "fp2, tp2, thresholds2 = roc_curve(y_test, probas2_[:, 1])\n",
        "roc_auc_model2 = auc(fp2, tp2)"
      ],
      "execution_count": null,
      "outputs": []
    },
    {
      "cell_type": "code",
      "metadata": {
        "colab": {
          "base_uri": "https://localhost:8080/"
        },
        "id": "sw14qy1w92y9",
        "outputId": "94744525-f2b3-4359-cbdd-534e83719cb9"
      },
      "source": [
        "print(\"AUC for Logistic Regression Model : \",roc_auc_model1)\n",
        "print(\"AUC for Random Forest Model :\" ,roc_auc_model2)"
      ],
      "execution_count": null,
      "outputs": [
        {
          "output_type": "stream",
          "text": [
            "AUC for Logistic Regression Model :  0.8848909263082858\n",
            "AUC for Random Forest Model : 0.9690778803285962\n"
          ],
          "name": "stdout"
        }
      ]
    },
    {
      "cell_type": "code",
      "metadata": {
        "colab": {
          "base_uri": "https://localhost:8080/",
          "height": 294
        },
        "id": "md0rVu16-XmM",
        "outputId": "5745923c-cc62-43b2-ba3b-aee1ae514edf"
      },
      "source": [
        "plt.clf()\n",
        "plt.plot(fp1, tp1, label='Logistic Model (area = %0.2f)' % roc_auc_model1)\n",
        "plt.plot(fp2, tp2, label='Random Forest Model (area = %0.2f)' % roc_auc_model2)\n",
        "plt.plot([0, 1], [0, 1], 'k--')\n",
        "plt.xlim([0.0, 1.0])\n",
        "plt.ylim([0.0, 1.0])\n",
        "plt.xlabel('False Positive Rate')\n",
        "plt.ylabel('True Positive Rate')\n",
        "plt.title('Receiverrating characteristic example')\n",
        "plt.legend(loc=\"lower right\")\n",
        "plt.show()"
      ],
      "execution_count": null,
      "outputs": [
        {
          "output_type": "display_data",
          "data": {
            "image/png": "[encoded data removed]",
            "text/plain": [
              "<Figure size 432x288 with 1 Axes>"
            ]
          },
          "metadata": {
            "tags": [],
            "needs_background": "light"
          }
        }
      ]
    },
    {
      "cell_type": "markdown",
      "metadata": {
        "id": "ca3iinuetYZj"
      },
      "source": [
        "ROC-AUC untuk Model Logistic Regression sebesar 0,88\n",
        "\n",
        "ROC-AUC untuk Model Random Forest sebesar 0,97\n",
        "\n",
        "Terlihat bahwa Model Random Forest yang paling bagus karena semakin tinggi True Positive Rate dan semakin kecil False Positive Rate maka thresholdnya semakin bagus. "
      ]
    },
    {
      "cell_type": "code",
      "metadata": {
        "id": "5S1wBtR9-_V7"
      },
      "source": [
        ""
      ],
      "execution_count": null,
      "outputs": []
    }
  ]
}